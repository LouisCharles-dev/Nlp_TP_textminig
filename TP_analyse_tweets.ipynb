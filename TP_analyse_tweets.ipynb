{
  "nbformat": 4,
  "nbformat_minor": 0,
  "metadata": {
    "colab": {
      "name": "TP_analyse_tweets.ipynb",
      "provenance": [],
      "collapsed_sections": []
    },
    "kernelspec": {
      "name": "python3",
      "display_name": "Python 3"
    }
  },
  "cells": [
    {
      "cell_type": "markdown",
      "metadata": {
        "id": "_x3c-ePP0jZG"
      },
      "source": [
        "# **TP Cours Textmining** \n",
        "#### *Etude portée sur les tweets de deux politiques français*\n",
        "\n",
        "*05-02-2021*\n",
        "\n",
        "Les objectifs de ce TP sont : \n",
        "- Travailler sur du texte français\n",
        "- Analyser les données \n",
        "- Reprendre les acquis développés dans les TP précédents\n",
        "- Découvrir de nouveaux outils : scattertext\n",
        "- Prédire qui a posté un tweet "
      ]
    },
    {
      "cell_type": "markdown",
      "metadata": {
        "id": "RII9vVrm1bLG"
      },
      "source": [
        "## **1. Installation des packages**"
      ]
    },
    {
      "cell_type": "code",
      "metadata": {
        "id": "WptkukJYK4ur"
      },
      "source": [
        "!pip install scattertext\n",
        "!pip install spacy\n",
        "!pip install nltk\n",
        "!pip install termcolor"
      ],
      "execution_count": null,
      "outputs": []
    },
    {
      "cell_type": "code",
      "metadata": {
        "id": "63W-DuD0keX3"
      },
      "source": [
        "!python -m spacy download fr_core_news_md"
      ],
      "execution_count": null,
      "outputs": []
    },
    {
      "cell_type": "code",
      "metadata": {
        "id": "G1d_nO78LIy9"
      },
      "source": [
        "import pandas as pd\n",
        "import matplotlib.pyplot as plt\n",
        "import numpy as np\n",
        "from time import time\n",
        "from datetime import datetime\n",
        "\n",
        "# Modules de traitement du texte\n",
        "import spacy\n",
        "import fr_core_news_md\n",
        "import nltk\n",
        "import re\n",
        "from termcolor import colored\n",
        "\n",
        "# Modules pour le wordcloud\n",
        "from PIL import Image\n",
        "from wordcloud import WordCloud, STOPWORDS, ImageColorGenerator\n",
        "\n",
        "# Module pour scattertext\n",
        "import scattertext as st\n",
        "\n",
        "# Modules de modélisation\n",
        "from sklearn.utils.fixes import loguniform\n",
        "from sklearn.feature_extraction.text import TfidfVectorizer\n",
        "from sklearn.pipeline import Pipeline\n",
        "from sklearn.compose import ColumnTransformer\n",
        "from sklearn.model_selection import GridSearchCV, RandomizedSearchCV, train_test_split\n",
        "from sklearn.linear_model import LogisticRegression\n",
        "from sklearn.metrics import confusion_matrix, ConfusionMatrixDisplay, classification_report\n"
      ],
      "execution_count": null,
      "outputs": []
    },
    {
      "cell_type": "code",
      "source": [
        "import os\n",
        "from google.colab import drive\n",
        "drive.mount('drive/')"
      ],
      "metadata": {
        "colab": {
          "base_uri": "https://localhost:8080/"
        },
        "id": "IQHwDWfO8DBf",
        "outputId": "db2b9955-33be-4489-9f5f-6320bacfb505"
      },
      "execution_count": null,
      "outputs": [
        {
          "output_type": "stream",
          "name": "stdout",
          "text": [
            "Mounted at drive/\n"
          ]
        }
      ]
    },
    {
      "cell_type": "code",
      "metadata": {
        "id": "ZdeI55hXMWYA"
      },
      "source": [
        "# chemin où se trouve le jeu de données (tweets_politics_2022.csv)\n",
        "PATH_DATA = '/content/drive/MyDrive/NLP' #TODO mettre le chemin pour trouver le fichier # "
      ],
      "execution_count": null,
      "outputs": []
    },
    {
      "cell_type": "markdown",
      "metadata": {
        "id": "S5yIKyNBL8sG"
      },
      "source": [
        "## **2. Prise en main de la base de données**\n",
        "\n",
        "Les données ont été extraites via l'API tweepy dans un autre notebook. \\\n",
        "Les tweets de certains candidats à l'élection présidentiels ont été récupérés. \n",
        "\n",
        "Regardez les variables à disposition, quelques comptages, s'il y a des données manquantes, quelques graphiques (?), la spécificité des tweets, etc. "
      ]
    },
    {
      "cell_type": "markdown",
      "metadata": {
        "id": "1y8B9ztR5Iee"
      },
      "source": [
        "#### Import des données"
      ]
    },
    {
      "cell_type": "code",
      "metadata": {
        "id": "Fl_jd11jLI4R"
      },
      "source": [
        "df_tweets = pd.read_csv(f'{PATH_DATA}/tweets_politics_2022.csv')"
      ],
      "execution_count": null,
      "outputs": []
    },
    {
      "cell_type": "code",
      "metadata": {
        "colab": {
          "base_uri": "https://localhost:8080/"
        },
        "id": "wb6War732Z4H",
        "outputId": "a0becbc9-f84b-42aa-aa0d-e9ffec00424a"
      },
      "source": [
        "df_tweets.shape"
      ],
      "execution_count": null,
      "outputs": [
        {
          "output_type": "execute_result",
          "data": {
            "text/plain": [
              "(18430, 6)"
            ]
          },
          "metadata": {},
          "execution_count": 48
        }
      ]
    },
    {
      "cell_type": "code",
      "metadata": {
        "colab": {
          "base_uri": "https://localhost:8080/",
          "height": 206
        },
        "id": "jmNq0KrHOtd-",
        "outputId": "1a17826a-584c-4dd1-cd08-078dab61532d"
      },
      "source": [
        "df_tweets.head()"
      ],
      "execution_count": null,
      "outputs": [
        {
          "output_type": "execute_result",
          "data": {
            "text/html": [
              "\n",
              "  <div id=\"df-85c2548b-ac4b-4972-82ca-c6e1e993fc6d\">\n",
              "    <div class=\"colab-df-container\">\n",
              "      <div>\n",
              "<style scoped>\n",
              "    .dataframe tbody tr th:only-of-type {\n",
              "        vertical-align: middle;\n",
              "    }\n",
              "\n",
              "    .dataframe tbody tr th {\n",
              "        vertical-align: top;\n",
              "    }\n",
              "\n",
              "    .dataframe thead th {\n",
              "        text-align: right;\n",
              "    }\n",
              "</style>\n",
              "<table border=\"1\" class=\"dataframe\">\n",
              "  <thead>\n",
              "    <tr style=\"text-align: right;\">\n",
              "      <th></th>\n",
              "      <th>id</th>\n",
              "      <th>created_at</th>\n",
              "      <th>favorite_count</th>\n",
              "      <th>retweet_count</th>\n",
              "      <th>text</th>\n",
              "      <th>user_id</th>\n",
              "    </tr>\n",
              "  </thead>\n",
              "  <tbody>\n",
              "    <tr>\n",
              "      <th>0</th>\n",
              "      <td>1487771447992926210</td>\n",
              "      <td>2022-01-30 12:55:29</td>\n",
              "      <td>436.0</td>\n",
              "      <td>193.0</td>\n",
              "      <td>Redonner du sens à la gauche : se rassembler a...</td>\n",
              "      <td>JeanLuc_Melenchon</td>\n",
              "    </tr>\n",
              "    <tr>\n",
              "      <th>1</th>\n",
              "      <td>1487400906517848070</td>\n",
              "      <td>2022-01-29 12:23:05</td>\n",
              "      <td>2350.0</td>\n",
              "      <td>1027.0</td>\n",
              "      <td>L’inscription sur les listes électorales c’est...</td>\n",
              "      <td>JeanLuc_Melenchon</td>\n",
              "    </tr>\n",
              "    <tr>\n",
              "      <th>2</th>\n",
              "      <td>1487117751084855300</td>\n",
              "      <td>2022-01-28 17:37:55</td>\n",
              "      <td>1145.0</td>\n",
              "      <td>480.0</td>\n",
              "      <td>🔴 Rendez-vous ce dimanche 30 janvier à 20h55 s...</td>\n",
              "      <td>JeanLuc_Melenchon</td>\n",
              "    </tr>\n",
              "    <tr>\n",
              "      <th>3</th>\n",
              "      <td>1487104482336989191</td>\n",
              "      <td>2022-01-28 16:45:12</td>\n",
              "      <td>1164.0</td>\n",
              "      <td>437.0</td>\n",
              "      <td>3 solutions pour financer la retraite à 60 ans...</td>\n",
              "      <td>JeanLuc_Melenchon</td>\n",
              "    </tr>\n",
              "    <tr>\n",
              "      <th>4</th>\n",
              "      <td>1487080530558476288</td>\n",
              "      <td>2022-01-28 15:10:01</td>\n",
              "      <td>1591.0</td>\n",
              "      <td>551.0</td>\n",
              "      <td>La Méditerranée est le plus grand cimetière du...</td>\n",
              "      <td>JeanLuc_Melenchon</td>\n",
              "    </tr>\n",
              "  </tbody>\n",
              "</table>\n",
              "</div>\n",
              "      <button class=\"colab-df-convert\" onclick=\"convertToInteractive('df-85c2548b-ac4b-4972-82ca-c6e1e993fc6d')\"\n",
              "              title=\"Convert this dataframe to an interactive table.\"\n",
              "              style=\"display:none;\">\n",
              "        \n",
              "  <svg xmlns=\"http://www.w3.org/2000/svg\" height=\"24px\"viewBox=\"0 0 24 24\"\n",
              "       width=\"24px\">\n",
              "    <path d=\"M0 0h24v24H0V0z\" fill=\"none\"/>\n",
              "    <path d=\"M18.56 5.44l.94 2.06.94-2.06 2.06-.94-2.06-.94-.94-2.06-.94 2.06-2.06.94zm-11 1L8.5 8.5l.94-2.06 2.06-.94-2.06-.94L8.5 2.5l-.94 2.06-2.06.94zm10 10l.94 2.06.94-2.06 2.06-.94-2.06-.94-.94-2.06-.94 2.06-2.06.94z\"/><path d=\"M17.41 7.96l-1.37-1.37c-.4-.4-.92-.59-1.43-.59-.52 0-1.04.2-1.43.59L10.3 9.45l-7.72 7.72c-.78.78-.78 2.05 0 2.83L4 21.41c.39.39.9.59 1.41.59.51 0 1.02-.2 1.41-.59l7.78-7.78 2.81-2.81c.8-.78.8-2.07 0-2.86zM5.41 20L4 18.59l7.72-7.72 1.47 1.35L5.41 20z\"/>\n",
              "  </svg>\n",
              "      </button>\n",
              "      \n",
              "  <style>\n",
              "    .colab-df-container {\n",
              "      display:flex;\n",
              "      flex-wrap:wrap;\n",
              "      gap: 12px;\n",
              "    }\n",
              "\n",
              "    .colab-df-convert {\n",
              "      background-color: #E8F0FE;\n",
              "      border: none;\n",
              "      border-radius: 50%;\n",
              "      cursor: pointer;\n",
              "      display: none;\n",
              "      fill: #1967D2;\n",
              "      height: 32px;\n",
              "      padding: 0 0 0 0;\n",
              "      width: 32px;\n",
              "    }\n",
              "\n",
              "    .colab-df-convert:hover {\n",
              "      background-color: #E2EBFA;\n",
              "      box-shadow: 0px 1px 2px rgba(60, 64, 67, 0.3), 0px 1px 3px 1px rgba(60, 64, 67, 0.15);\n",
              "      fill: #174EA6;\n",
              "    }\n",
              "\n",
              "    [theme=dark] .colab-df-convert {\n",
              "      background-color: #3B4455;\n",
              "      fill: #D2E3FC;\n",
              "    }\n",
              "\n",
              "    [theme=dark] .colab-df-convert:hover {\n",
              "      background-color: #434B5C;\n",
              "      box-shadow: 0px 1px 3px 1px rgba(0, 0, 0, 0.15);\n",
              "      filter: drop-shadow(0px 1px 2px rgba(0, 0, 0, 0.3));\n",
              "      fill: #FFFFFF;\n",
              "    }\n",
              "  </style>\n",
              "\n",
              "      <script>\n",
              "        const buttonEl =\n",
              "          document.querySelector('#df-85c2548b-ac4b-4972-82ca-c6e1e993fc6d button.colab-df-convert');\n",
              "        buttonEl.style.display =\n",
              "          google.colab.kernel.accessAllowed ? 'block' : 'none';\n",
              "\n",
              "        async function convertToInteractive(key) {\n",
              "          const element = document.querySelector('#df-85c2548b-ac4b-4972-82ca-c6e1e993fc6d');\n",
              "          const dataTable =\n",
              "            await google.colab.kernel.invokeFunction('convertToInteractive',\n",
              "                                                     [key], {});\n",
              "          if (!dataTable) return;\n",
              "\n",
              "          const docLinkHtml = 'Like what you see? Visit the ' +\n",
              "            '<a target=\"_blank\" href=https://colab.research.google.com/notebooks/data_table.ipynb>data table notebook</a>'\n",
              "            + ' to learn more about interactive tables.';\n",
              "          element.innerHTML = '';\n",
              "          dataTable['output_type'] = 'display_data';\n",
              "          await google.colab.output.renderOutput(dataTable, element);\n",
              "          const docLink = document.createElement('div');\n",
              "          docLink.innerHTML = docLinkHtml;\n",
              "          element.appendChild(docLink);\n",
              "        }\n",
              "      </script>\n",
              "    </div>\n",
              "  </div>\n",
              "  "
            ],
            "text/plain": [
              "                    id  ...            user_id\n",
              "0  1487771447992926210  ...  JeanLuc_Melenchon\n",
              "1  1487400906517848070  ...  JeanLuc_Melenchon\n",
              "2  1487117751084855300  ...  JeanLuc_Melenchon\n",
              "3  1487104482336989191  ...  JeanLuc_Melenchon\n",
              "4  1487080530558476288  ...  JeanLuc_Melenchon\n",
              "\n",
              "[5 rows x 6 columns]"
            ]
          },
          "metadata": {},
          "execution_count": 49
        }
      ]
    },
    {
      "cell_type": "code",
      "source": [
        "df_tweets['created_at'] = pd.to_datetime(df_tweets['created_at'])\n",
        "#df_tweets[df_tweets['user_id'] == 'JeanLuc_Melenchon'].sort_values(by='created_at', ascending=False)"
      ],
      "metadata": {
        "id": "-Ff4vwYgCbHW"
      },
      "execution_count": null,
      "outputs": []
    },
    {
      "cell_type": "code",
      "source": [
        "df_tweets.isnull().values.any()\n",
        "df_tweets.isnull().sum()"
      ],
      "metadata": {
        "colab": {
          "base_uri": "https://localhost:8080/"
        },
        "id": "D9j9de1n_13J",
        "outputId": "6dd2722f-932a-4229-af0a-174752f5cb0a"
      },
      "execution_count": null,
      "outputs": [
        {
          "output_type": "execute_result",
          "data": {
            "text/plain": [
              "id                0\n",
              "created_at        0\n",
              "favorite_count    0\n",
              "retweet_count     0\n",
              "text              0\n",
              "user_id           0\n",
              "dtype: int64"
            ]
          },
          "metadata": {},
          "execution_count": 51
        }
      ]
    },
    {
      "cell_type": "code",
      "source": [
        "df_tweets['user_id'].value_counts()"
      ],
      "metadata": {
        "colab": {
          "base_uri": "https://localhost:8080/"
        },
        "id": "BC78kjARB3X4",
        "outputId": "d91322a5-e2da-4278-c71c-fc9834023ff9"
      },
      "execution_count": null,
      "outputs": [
        {
          "output_type": "execute_result",
          "data": {
            "text/plain": [
              "Emmanuel_Macron        2969\n",
              "Marine_Lepen           2782\n",
              "JeanLuc_Melenchon      2756\n",
              "Eric_Zemmour           2752\n",
              "Christianne_Taubira    2402\n",
              "Valerie_Pecresse       2399\n",
              "Yannick_Jadot          1532\n",
              "Anne_Hidalgo            838\n",
              "Name: user_id, dtype: int64"
            ]
          },
          "metadata": {},
          "execution_count": 52
        }
      ]
    },
    {
      "cell_type": "markdown",
      "metadata": {
        "id": "BlANmcVAPh3L"
      },
      "source": [
        "####  Quelques comptages / graphiques"
      ]
    },
    {
      "cell_type": "markdown",
      "metadata": {
        "id": "k_J_CgyXSpUU"
      },
      "source": [
        "##### Indicateurs simples sur les variables : \n",
        "- Y a't'il des données manquantes ? \n",
        "- combien de tweets de chaque candidat ? \n",
        "- dates minimales / maximales des tweets\n",
        "- Distribution des favoris et des retweets de chaque candidat"
      ]
    },
    {
      "cell_type": "markdown",
      "metadata": {
        "id": "Qd-6BM7i6ZvW"
      },
      "source": [
        "<details>    \n",
        "<summary>\n",
        "    <font size=\"3\" color=\"darkgreen\"><b>Aide</b></font>\n",
        "</summary>\n",
        "<p>\n",
        "<ul>\n",
        "    <li> Utiliser .isnull() </li>\n",
        "    <li><a href=\"https://pandas.pydata.org/pandas-docs/stable/reference/api/pandas.DataFrame.value_counts.html\" >pd.value_counts()</a> pour compter le nombre de modalités d'une variable catégorielle </li>\n",
        "    <li> Convertir la date au bon format avec pd.to_datetime() </li>\n",
        "    <li> Vous pouvez utiliser la fonction groupby et describe() </li>\n",
        "\n",
        "</ul>\n",
        "</p>"
      ]
    },
    {
      "cell_type": "code",
      "metadata": {
        "id": "Rpd04jMO9h1E",
        "colab": {
          "base_uri": "https://localhost:8080/"
        },
        "outputId": "f1b73760-adc1-48ce-f485-535748576605"
      },
      "source": [
        "# Implémentez la fonction en changeant le None\n",
        "def check_missing_values(df):\n",
        "  missing_values = df.isnull().values.any()\n",
        "  return missing_values\n",
        "\n",
        "check_missing_values(df_tweets)"
      ],
      "execution_count": null,
      "outputs": [
        {
          "output_type": "execute_result",
          "data": {
            "text/plain": [
              "False"
            ]
          },
          "metadata": {},
          "execution_count": 53
        }
      ]
    },
    {
      "cell_type": "code",
      "metadata": {
        "id": "ndZ68VlXLI8M",
        "colab": {
          "base_uri": "https://localhost:8080/"
        },
        "outputId": "7b1c0a77-5df9-4d68-f041-78b5f2f943df"
      },
      "source": [
        "# Combien de tweets dans la base de données pour chacun des candidats ? \n",
        "\n",
        "df_tweets['user_id'].value_counts()\n"
      ],
      "execution_count": null,
      "outputs": [
        {
          "output_type": "execute_result",
          "data": {
            "text/plain": [
              "Emmanuel_Macron        2969\n",
              "Marine_Lepen           2782\n",
              "JeanLuc_Melenchon      2756\n",
              "Eric_Zemmour           2752\n",
              "Christianne_Taubira    2402\n",
              "Valerie_Pecresse       2399\n",
              "Yannick_Jadot          1532\n",
              "Anne_Hidalgo            838\n",
              "Name: user_id, dtype: int64"
            ]
          },
          "metadata": {},
          "execution_count": 54
        }
      ]
    },
    {
      "cell_type": "code",
      "metadata": {
        "id": "6mpm5HJsSTmD",
        "colab": {
          "base_uri": "https://localhost:8080/",
          "height": 206
        },
        "outputId": "61718f10-94b6-4261-9b4b-f5628bedbb3c"
      },
      "source": [
        "# A quelles dates ont été envoyés les premiers / derniers tweets des candidats ? \n",
        "\n",
        "def check_dates_tweets(df, candidat, ascend, number=5):\n",
        "  df['created_at'] = pd.to_datetime(df['created_at'])\n",
        "  df2 = df_tweets[df['user_id'] == candidat].sort_values(by='created_at', ascending=ascend)\n",
        "  return df2.head(number)\n",
        "\n",
        "check_dates_tweets(df_tweets, 'JeanLuc_Melenchon', True)"
      ],
      "execution_count": null,
      "outputs": [
        {
          "output_type": "execute_result",
          "data": {
            "text/html": [
              "\n",
              "  <div id=\"df-9981e5be-651c-4fca-9cd8-fb4c243a154c\">\n",
              "    <div class=\"colab-df-container\">\n",
              "      <div>\n",
              "<style scoped>\n",
              "    .dataframe tbody tr th:only-of-type {\n",
              "        vertical-align: middle;\n",
              "    }\n",
              "\n",
              "    .dataframe tbody tr th {\n",
              "        vertical-align: top;\n",
              "    }\n",
              "\n",
              "    .dataframe thead th {\n",
              "        text-align: right;\n",
              "    }\n",
              "</style>\n",
              "<table border=\"1\" class=\"dataframe\">\n",
              "  <thead>\n",
              "    <tr style=\"text-align: right;\">\n",
              "      <th></th>\n",
              "      <th>id</th>\n",
              "      <th>created_at</th>\n",
              "      <th>favorite_count</th>\n",
              "      <th>retweet_count</th>\n",
              "      <th>text</th>\n",
              "      <th>user_id</th>\n",
              "    </tr>\n",
              "  </thead>\n",
              "  <tbody>\n",
              "    <tr>\n",
              "      <th>2755</th>\n",
              "      <td>1437339731227029508</td>\n",
              "      <td>2021-09-13 08:57:51</td>\n",
              "      <td>240.0</td>\n",
              "      <td>106.0</td>\n",
              "      <td>@RMCinfo @RMCStory @CharlesConsigny Une propos...</td>\n",
              "      <td>JeanLuc_Melenchon</td>\n",
              "    </tr>\n",
              "    <tr>\n",
              "      <th>2754</th>\n",
              "      <td>1437353198906454019</td>\n",
              "      <td>2021-09-13 09:51:22</td>\n",
              "      <td>687.0</td>\n",
              "      <td>266.0</td>\n",
              "      <td>Oui il faut revaloriser les salaires des profs...</td>\n",
              "      <td>JeanLuc_Melenchon</td>\n",
              "    </tr>\n",
              "    <tr>\n",
              "      <th>2753</th>\n",
              "      <td>1437353236646797313</td>\n",
              "      <td>2021-09-13 09:51:31</td>\n",
              "      <td>1543.0</td>\n",
              "      <td>482.0</td>\n",
              "      <td>M. #Zemmour est devenu l’intellectuel organiqu...</td>\n",
              "      <td>JeanLuc_Melenchon</td>\n",
              "    </tr>\n",
              "    <tr>\n",
              "      <th>2752</th>\n",
              "      <td>1437353994456870914</td>\n",
              "      <td>2021-09-13 09:54:31</td>\n",
              "      <td>668.0</td>\n",
              "      <td>295.0</td>\n",
              "      <td>+de 70% des participants au sondage sont favor...</td>\n",
              "      <td>JeanLuc_Melenchon</td>\n",
              "    </tr>\n",
              "    <tr>\n",
              "      <th>2751</th>\n",
              "      <td>1437379028038602752</td>\n",
              "      <td>2021-09-13 11:34:00</td>\n",
              "      <td>1034.0</td>\n",
              "      <td>424.0</td>\n",
              "      <td>Gaz, électricité, alimentation : il faut bloqu...</td>\n",
              "      <td>JeanLuc_Melenchon</td>\n",
              "    </tr>\n",
              "  </tbody>\n",
              "</table>\n",
              "</div>\n",
              "      <button class=\"colab-df-convert\" onclick=\"convertToInteractive('df-9981e5be-651c-4fca-9cd8-fb4c243a154c')\"\n",
              "              title=\"Convert this dataframe to an interactive table.\"\n",
              "              style=\"display:none;\">\n",
              "        \n",
              "  <svg xmlns=\"http://www.w3.org/2000/svg\" height=\"24px\"viewBox=\"0 0 24 24\"\n",
              "       width=\"24px\">\n",
              "    <path d=\"M0 0h24v24H0V0z\" fill=\"none\"/>\n",
              "    <path d=\"M18.56 5.44l.94 2.06.94-2.06 2.06-.94-2.06-.94-.94-2.06-.94 2.06-2.06.94zm-11 1L8.5 8.5l.94-2.06 2.06-.94-2.06-.94L8.5 2.5l-.94 2.06-2.06.94zm10 10l.94 2.06.94-2.06 2.06-.94-2.06-.94-.94-2.06-.94 2.06-2.06.94z\"/><path d=\"M17.41 7.96l-1.37-1.37c-.4-.4-.92-.59-1.43-.59-.52 0-1.04.2-1.43.59L10.3 9.45l-7.72 7.72c-.78.78-.78 2.05 0 2.83L4 21.41c.39.39.9.59 1.41.59.51 0 1.02-.2 1.41-.59l7.78-7.78 2.81-2.81c.8-.78.8-2.07 0-2.86zM5.41 20L4 18.59l7.72-7.72 1.47 1.35L5.41 20z\"/>\n",
              "  </svg>\n",
              "      </button>\n",
              "      \n",
              "  <style>\n",
              "    .colab-df-container {\n",
              "      display:flex;\n",
              "      flex-wrap:wrap;\n",
              "      gap: 12px;\n",
              "    }\n",
              "\n",
              "    .colab-df-convert {\n",
              "      background-color: #E8F0FE;\n",
              "      border: none;\n",
              "      border-radius: 50%;\n",
              "      cursor: pointer;\n",
              "      display: none;\n",
              "      fill: #1967D2;\n",
              "      height: 32px;\n",
              "      padding: 0 0 0 0;\n",
              "      width: 32px;\n",
              "    }\n",
              "\n",
              "    .colab-df-convert:hover {\n",
              "      background-color: #E2EBFA;\n",
              "      box-shadow: 0px 1px 2px rgba(60, 64, 67, 0.3), 0px 1px 3px 1px rgba(60, 64, 67, 0.15);\n",
              "      fill: #174EA6;\n",
              "    }\n",
              "\n",
              "    [theme=dark] .colab-df-convert {\n",
              "      background-color: #3B4455;\n",
              "      fill: #D2E3FC;\n",
              "    }\n",
              "\n",
              "    [theme=dark] .colab-df-convert:hover {\n",
              "      background-color: #434B5C;\n",
              "      box-shadow: 0px 1px 3px 1px rgba(0, 0, 0, 0.15);\n",
              "      filter: drop-shadow(0px 1px 2px rgba(0, 0, 0, 0.3));\n",
              "      fill: #FFFFFF;\n",
              "    }\n",
              "  </style>\n",
              "\n",
              "      <script>\n",
              "        const buttonEl =\n",
              "          document.querySelector('#df-9981e5be-651c-4fca-9cd8-fb4c243a154c button.colab-df-convert');\n",
              "        buttonEl.style.display =\n",
              "          google.colab.kernel.accessAllowed ? 'block' : 'none';\n",
              "\n",
              "        async function convertToInteractive(key) {\n",
              "          const element = document.querySelector('#df-9981e5be-651c-4fca-9cd8-fb4c243a154c');\n",
              "          const dataTable =\n",
              "            await google.colab.kernel.invokeFunction('convertToInteractive',\n",
              "                                                     [key], {});\n",
              "          if (!dataTable) return;\n",
              "\n",
              "          const docLinkHtml = 'Like what you see? Visit the ' +\n",
              "            '<a target=\"_blank\" href=https://colab.research.google.com/notebooks/data_table.ipynb>data table notebook</a>'\n",
              "            + ' to learn more about interactive tables.';\n",
              "          element.innerHTML = '';\n",
              "          dataTable['output_type'] = 'display_data';\n",
              "          await google.colab.output.renderOutput(dataTable, element);\n",
              "          const docLink = document.createElement('div');\n",
              "          docLink.innerHTML = docLinkHtml;\n",
              "          element.appendChild(docLink);\n",
              "        }\n",
              "      </script>\n",
              "    </div>\n",
              "  </div>\n",
              "  "
            ],
            "text/plain": [
              "                       id  ...            user_id\n",
              "2755  1437339731227029508  ...  JeanLuc_Melenchon\n",
              "2754  1437353198906454019  ...  JeanLuc_Melenchon\n",
              "2753  1437353236646797313  ...  JeanLuc_Melenchon\n",
              "2752  1437353994456870914  ...  JeanLuc_Melenchon\n",
              "2751  1437379028038602752  ...  JeanLuc_Melenchon\n",
              "\n",
              "[5 rows x 6 columns]"
            ]
          },
          "metadata": {},
          "execution_count": 56
        }
      ]
    },
    {
      "cell_type": "code",
      "metadata": {
        "id": "kx4UvxNc81Js",
        "colab": {
          "base_uri": "https://localhost:8080/",
          "height": 331
        },
        "outputId": "e19b3586-1c9b-47f6-e326-f9d831f9de2f"
      },
      "source": [
        "# Quelle est la distribution des favoris et retweets des candidats  ?\n",
        "\n",
        "df_tweets.groupby(by='user_id').retweet_count.describe()\n",
        "#df_tweets.groupby(by='user_id').favorite_count.describe()"
      ],
      "execution_count": null,
      "outputs": [
        {
          "output_type": "execute_result",
          "data": {
            "text/html": [
              "\n",
              "  <div id=\"df-61c462de-58e2-431b-af8b-c50778c4b40c\">\n",
              "    <div class=\"colab-df-container\">\n",
              "      <div>\n",
              "<style scoped>\n",
              "    .dataframe tbody tr th:only-of-type {\n",
              "        vertical-align: middle;\n",
              "    }\n",
              "\n",
              "    .dataframe tbody tr th {\n",
              "        vertical-align: top;\n",
              "    }\n",
              "\n",
              "    .dataframe thead th {\n",
              "        text-align: right;\n",
              "    }\n",
              "</style>\n",
              "<table border=\"1\" class=\"dataframe\">\n",
              "  <thead>\n",
              "    <tr style=\"text-align: right;\">\n",
              "      <th></th>\n",
              "      <th>count</th>\n",
              "      <th>mean</th>\n",
              "      <th>std</th>\n",
              "      <th>min</th>\n",
              "      <th>25%</th>\n",
              "      <th>50%</th>\n",
              "      <th>75%</th>\n",
              "      <th>max</th>\n",
              "    </tr>\n",
              "    <tr>\n",
              "      <th>user_id</th>\n",
              "      <th></th>\n",
              "      <th></th>\n",
              "      <th></th>\n",
              "      <th></th>\n",
              "      <th></th>\n",
              "      <th></th>\n",
              "      <th></th>\n",
              "      <th></th>\n",
              "    </tr>\n",
              "  </thead>\n",
              "  <tbody>\n",
              "    <tr>\n",
              "      <th>Anne_Hidalgo</th>\n",
              "      <td>838.0</td>\n",
              "      <td>98.097852</td>\n",
              "      <td>177.219356</td>\n",
              "      <td>1.0</td>\n",
              "      <td>34.00</td>\n",
              "      <td>68.0</td>\n",
              "      <td>113.00</td>\n",
              "      <td>2900.0</td>\n",
              "    </tr>\n",
              "    <tr>\n",
              "      <th>Christianne_Taubira</th>\n",
              "      <td>2402.0</td>\n",
              "      <td>137.960866</td>\n",
              "      <td>553.241746</td>\n",
              "      <td>0.0</td>\n",
              "      <td>24.00</td>\n",
              "      <td>46.5</td>\n",
              "      <td>102.75</td>\n",
              "      <td>15718.0</td>\n",
              "    </tr>\n",
              "    <tr>\n",
              "      <th>Emmanuel_Macron</th>\n",
              "      <td>2969.0</td>\n",
              "      <td>1088.372853</td>\n",
              "      <td>2743.806652</td>\n",
              "      <td>20.0</td>\n",
              "      <td>305.00</td>\n",
              "      <td>514.0</td>\n",
              "      <td>950.00</td>\n",
              "      <td>64283.0</td>\n",
              "    </tr>\n",
              "    <tr>\n",
              "      <th>Eric_Zemmour</th>\n",
              "      <td>2752.0</td>\n",
              "      <td>844.556686</td>\n",
              "      <td>783.894937</td>\n",
              "      <td>13.0</td>\n",
              "      <td>368.00</td>\n",
              "      <td>613.0</td>\n",
              "      <td>1040.00</td>\n",
              "      <td>8698.0</td>\n",
              "    </tr>\n",
              "    <tr>\n",
              "      <th>JeanLuc_Melenchon</th>\n",
              "      <td>2756.0</td>\n",
              "      <td>194.824746</td>\n",
              "      <td>276.502632</td>\n",
              "      <td>20.0</td>\n",
              "      <td>63.00</td>\n",
              "      <td>106.0</td>\n",
              "      <td>216.00</td>\n",
              "      <td>5719.0</td>\n",
              "    </tr>\n",
              "    <tr>\n",
              "      <th>Marine_Lepen</th>\n",
              "      <td>2782.0</td>\n",
              "      <td>432.787563</td>\n",
              "      <td>364.430943</td>\n",
              "      <td>24.0</td>\n",
              "      <td>202.25</td>\n",
              "      <td>311.0</td>\n",
              "      <td>531.00</td>\n",
              "      <td>4097.0</td>\n",
              "    </tr>\n",
              "    <tr>\n",
              "      <th>Valerie_Pecresse</th>\n",
              "      <td>2399.0</td>\n",
              "      <td>98.312213</td>\n",
              "      <td>142.986371</td>\n",
              "      <td>0.0</td>\n",
              "      <td>35.00</td>\n",
              "      <td>65.0</td>\n",
              "      <td>112.00</td>\n",
              "      <td>3611.0</td>\n",
              "    </tr>\n",
              "    <tr>\n",
              "      <th>Yannick_Jadot</th>\n",
              "      <td>1532.0</td>\n",
              "      <td>60.967363</td>\n",
              "      <td>72.798983</td>\n",
              "      <td>0.0</td>\n",
              "      <td>13.00</td>\n",
              "      <td>40.0</td>\n",
              "      <td>86.00</td>\n",
              "      <td>1090.0</td>\n",
              "    </tr>\n",
              "  </tbody>\n",
              "</table>\n",
              "</div>\n",
              "      <button class=\"colab-df-convert\" onclick=\"convertToInteractive('df-61c462de-58e2-431b-af8b-c50778c4b40c')\"\n",
              "              title=\"Convert this dataframe to an interactive table.\"\n",
              "              style=\"display:none;\">\n",
              "        \n",
              "  <svg xmlns=\"http://www.w3.org/2000/svg\" height=\"24px\"viewBox=\"0 0 24 24\"\n",
              "       width=\"24px\">\n",
              "    <path d=\"M0 0h24v24H0V0z\" fill=\"none\"/>\n",
              "    <path d=\"M18.56 5.44l.94 2.06.94-2.06 2.06-.94-2.06-.94-.94-2.06-.94 2.06-2.06.94zm-11 1L8.5 8.5l.94-2.06 2.06-.94-2.06-.94L8.5 2.5l-.94 2.06-2.06.94zm10 10l.94 2.06.94-2.06 2.06-.94-2.06-.94-.94-2.06-.94 2.06-2.06.94z\"/><path d=\"M17.41 7.96l-1.37-1.37c-.4-.4-.92-.59-1.43-.59-.52 0-1.04.2-1.43.59L10.3 9.45l-7.72 7.72c-.78.78-.78 2.05 0 2.83L4 21.41c.39.39.9.59 1.41.59.51 0 1.02-.2 1.41-.59l7.78-7.78 2.81-2.81c.8-.78.8-2.07 0-2.86zM5.41 20L4 18.59l7.72-7.72 1.47 1.35L5.41 20z\"/>\n",
              "  </svg>\n",
              "      </button>\n",
              "      \n",
              "  <style>\n",
              "    .colab-df-container {\n",
              "      display:flex;\n",
              "      flex-wrap:wrap;\n",
              "      gap: 12px;\n",
              "    }\n",
              "\n",
              "    .colab-df-convert {\n",
              "      background-color: #E8F0FE;\n",
              "      border: none;\n",
              "      border-radius: 50%;\n",
              "      cursor: pointer;\n",
              "      display: none;\n",
              "      fill: #1967D2;\n",
              "      height: 32px;\n",
              "      padding: 0 0 0 0;\n",
              "      width: 32px;\n",
              "    }\n",
              "\n",
              "    .colab-df-convert:hover {\n",
              "      background-color: #E2EBFA;\n",
              "      box-shadow: 0px 1px 2px rgba(60, 64, 67, 0.3), 0px 1px 3px 1px rgba(60, 64, 67, 0.15);\n",
              "      fill: #174EA6;\n",
              "    }\n",
              "\n",
              "    [theme=dark] .colab-df-convert {\n",
              "      background-color: #3B4455;\n",
              "      fill: #D2E3FC;\n",
              "    }\n",
              "\n",
              "    [theme=dark] .colab-df-convert:hover {\n",
              "      background-color: #434B5C;\n",
              "      box-shadow: 0px 1px 3px 1px rgba(0, 0, 0, 0.15);\n",
              "      filter: drop-shadow(0px 1px 2px rgba(0, 0, 0, 0.3));\n",
              "      fill: #FFFFFF;\n",
              "    }\n",
              "  </style>\n",
              "\n",
              "      <script>\n",
              "        const buttonEl =\n",
              "          document.querySelector('#df-61c462de-58e2-431b-af8b-c50778c4b40c button.colab-df-convert');\n",
              "        buttonEl.style.display =\n",
              "          google.colab.kernel.accessAllowed ? 'block' : 'none';\n",
              "\n",
              "        async function convertToInteractive(key) {\n",
              "          const element = document.querySelector('#df-61c462de-58e2-431b-af8b-c50778c4b40c');\n",
              "          const dataTable =\n",
              "            await google.colab.kernel.invokeFunction('convertToInteractive',\n",
              "                                                     [key], {});\n",
              "          if (!dataTable) return;\n",
              "\n",
              "          const docLinkHtml = 'Like what you see? Visit the ' +\n",
              "            '<a target=\"_blank\" href=https://colab.research.google.com/notebooks/data_table.ipynb>data table notebook</a>'\n",
              "            + ' to learn more about interactive tables.';\n",
              "          element.innerHTML = '';\n",
              "          dataTable['output_type'] = 'display_data';\n",
              "          await google.colab.output.renderOutput(dataTable, element);\n",
              "          const docLink = document.createElement('div');\n",
              "          docLink.innerHTML = docLinkHtml;\n",
              "          element.appendChild(docLink);\n",
              "        }\n",
              "      </script>\n",
              "    </div>\n",
              "  </div>\n",
              "  "
            ],
            "text/plain": [
              "                      count         mean          std  ...    50%      75%      max\n",
              "user_id                                                ...                         \n",
              "Anne_Hidalgo          838.0    98.097852   177.219356  ...   68.0   113.00   2900.0\n",
              "Christianne_Taubira  2402.0   137.960866   553.241746  ...   46.5   102.75  15718.0\n",
              "Emmanuel_Macron      2969.0  1088.372853  2743.806652  ...  514.0   950.00  64283.0\n",
              "Eric_Zemmour         2752.0   844.556686   783.894937  ...  613.0  1040.00   8698.0\n",
              "JeanLuc_Melenchon    2756.0   194.824746   276.502632  ...  106.0   216.00   5719.0\n",
              "Marine_Lepen         2782.0   432.787563   364.430943  ...  311.0   531.00   4097.0\n",
              "Valerie_Pecresse     2399.0    98.312213   142.986371  ...   65.0   112.00   3611.0\n",
              "Yannick_Jadot        1532.0    60.967363    72.798983  ...   40.0    86.00   1090.0\n",
              "\n",
              "[8 rows x 8 columns]"
            ]
          },
          "metadata": {},
          "execution_count": 58
        }
      ]
    },
    {
      "cell_type": "markdown",
      "metadata": {
        "id": "zp38kr7YTIyP"
      },
      "source": [
        "##### Répartition du nombre de retweets / favoris dans le temps "
      ]
    },
    {
      "cell_type": "code",
      "metadata": {
        "id": "wUzv4R0HOF2p"
      },
      "source": [
        "def visualize_count_favorites(df, userID) : \n",
        "  \n",
        "  ''' Cette fonction permet de visualiser le nombre de favoris et de retweets \n",
        "  sur toute la période pour un user_id donné '''\n",
        "\n",
        "  df_temp = df.loc[df[\"user_id\"] == userID]\n",
        "  ylabels = [\"favorite_count\", \"retweet_count\"]\n",
        "\n",
        "  print(\"Représentation des nombres de retweets et de favoris de chaque tweet de {} par date\".format(userID))\n",
        "  fig = plt.figure(figsize=(13,3))\n",
        "  fig.subplots_adjust(hspace=0.01,wspace=0.01)\n",
        "\n",
        "  n_row = len(ylabels)\n",
        "  n_col = 1\n",
        "  for count, ylabel in enumerate(ylabels):\n",
        "      ax = fig.add_subplot(n_row, n_col, count + 1)\n",
        "      ax.plot(df_temp[\"created_at\"], df_temp[ylabel])\n",
        "      ax.set_ylabel(ylabel)\n",
        "  \n",
        "  plt.show()"
      ],
      "execution_count": null,
      "outputs": []
    },
    {
      "cell_type": "code",
      "metadata": {
        "id": "_EX8kGe5PMnX",
        "colab": {
          "base_uri": "https://localhost:8080/",
          "height": 482
        },
        "outputId": "7bac36a0-844b-4165-b435-25ec4c7f2791"
      },
      "source": [
        "visualize_count_favorites(df_tweets, \"JeanLuc_Melenchon\")\n",
        "print(\"\\n\")\n",
        "visualize_count_favorites(df_tweets, \"Marine_Lepen\")"
      ],
      "execution_count": null,
      "outputs": [
        {
          "output_type": "stream",
          "name": "stdout",
          "text": [
            "Représentation des nombres de retweets et de favoris de chaque tweet de JeanLuc_Melenchon par date\n"
          ]
        },
        {
          "output_type": "display_data",
          "data": {
            "image/png": "[encoded data removed]",
            "text/plain": [
              "<Figure size 936x216 with 2 Axes>"
            ]
          },
          "metadata": {
            "needs_background": "light"
          }
        },
        {
          "output_type": "stream",
          "name": "stdout",
          "text": [
            "\n",
            "\n",
            "Représentation des nombres de retweets et de favoris de chaque tweet de Marine_Lepen par date\n"
          ]
        },
        {
          "output_type": "display_data",
          "data": {
            "image/png": "[encoded data removed]",
            "text/plain": [
              "<Figure size 936x216 with 2 Axes>"
            ]
          },
          "metadata": {
            "needs_background": "light"
          }
        }
      ]
    },
    {
      "cell_type": "markdown",
      "metadata": {
        "id": "u0lKdMMwADR0"
      },
      "source": [
        "> **Question** : Qu'observe-t'on ? \n"
      ]
    },
    {
      "cell_type": "markdown",
      "metadata": {
        "id": "VwudV8x6DFdE"
      },
      "source": [
        "**Réponse** : \n",
        "Nous pouvons observer certains pics de tweets en fonctions des dates, surement du à des périodes d'éléctions ou des évenements politiques. On remarque aussi une forte corrélation entre les favorites et les retweets."
      ]
    },
    {
      "cell_type": "markdown",
      "metadata": {
        "id": "xBKjp28WTWCo"
      },
      "source": [
        "##### Taille des tweets par politique \n",
        "\n",
        "Est-ce que des candidats font des tweets + ou - longs que d'autres ? "
      ]
    },
    {
      "cell_type": "markdown",
      "metadata": {
        "id": "x2GQA6vmBS8N"
      },
      "source": [
        "<details>    \n",
        "<summary>\n",
        "    <font size=\"3\" color=\"darkgreen\"><b>Aide</b></font>\n",
        "</summary>\n",
        "<p>\n",
        "<ul>\n",
        "    <li> Utilisez la fonction <a href=\"https://pandas.pydata.org/pandas-docs/stable/reference/api/pandas.Series.str.split.html\" >.split()</a> pour calculer la taille des tweets</li>\n",
        "    <li> Vous pouvez utiliser la fonction groupby et describe() </li>\n",
        "\n",
        "</ul>\n",
        "</p>"
      ]
    },
    {
      "cell_type": "code",
      "metadata": {
        "id": "_To_KRC63G6J",
        "colab": {
          "base_uri": "https://localhost:8080/",
          "height": 331
        },
        "outputId": "62d37db5-bedc-4444-d211-51c0333c48dd"
      },
      "source": [
        "# Calcul d'une variable contenant le nombre de mots de chaque tweets\n",
        "\n",
        "def check_word_count(df):\n",
        "  df['nb_mot'] = df['text'].apply(lambda x: len(x.split()))\n",
        "  return df\n",
        "\n",
        "check_word_count(df_tweets)\n",
        "\n",
        "# Calcul de la distribution de la variable pour chaque politique\n",
        "\n",
        "df_tweets.groupby(by=['user_id']).nb_mot.describe()\n",
        "\n"
      ],
      "execution_count": null,
      "outputs": [
        {
          "output_type": "execute_result",
          "data": {
            "text/html": [
              "\n",
              "  <div id=\"df-2c67a41d-da7f-4ff9-94e9-1a10cbcd47b7\">\n",
              "    <div class=\"colab-df-container\">\n",
              "      <div>\n",
              "<style scoped>\n",
              "    .dataframe tbody tr th:only-of-type {\n",
              "        vertical-align: middle;\n",
              "    }\n",
              "\n",
              "    .dataframe tbody tr th {\n",
              "        vertical-align: top;\n",
              "    }\n",
              "\n",
              "    .dataframe thead th {\n",
              "        text-align: right;\n",
              "    }\n",
              "</style>\n",
              "<table border=\"1\" class=\"dataframe\">\n",
              "  <thead>\n",
              "    <tr style=\"text-align: right;\">\n",
              "      <th></th>\n",
              "      <th>count</th>\n",
              "      <th>mean</th>\n",
              "      <th>std</th>\n",
              "      <th>min</th>\n",
              "      <th>25%</th>\n",
              "      <th>50%</th>\n",
              "      <th>75%</th>\n",
              "      <th>max</th>\n",
              "    </tr>\n",
              "    <tr>\n",
              "      <th>user_id</th>\n",
              "      <th></th>\n",
              "      <th></th>\n",
              "      <th></th>\n",
              "      <th></th>\n",
              "      <th></th>\n",
              "      <th></th>\n",
              "      <th></th>\n",
              "      <th></th>\n",
              "    </tr>\n",
              "  </thead>\n",
              "  <tbody>\n",
              "    <tr>\n",
              "      <th>Anne_Hidalgo</th>\n",
              "      <td>838.0</td>\n",
              "      <td>31.445107</td>\n",
              "      <td>13.764054</td>\n",
              "      <td>2.0</td>\n",
              "      <td>20.0</td>\n",
              "      <td>36.0</td>\n",
              "      <td>43.0</td>\n",
              "      <td>54.0</td>\n",
              "    </tr>\n",
              "    <tr>\n",
              "      <th>Christianne_Taubira</th>\n",
              "      <td>2402.0</td>\n",
              "      <td>19.308493</td>\n",
              "      <td>7.433403</td>\n",
              "      <td>1.0</td>\n",
              "      <td>15.0</td>\n",
              "      <td>19.0</td>\n",
              "      <td>22.0</td>\n",
              "      <td>52.0</td>\n",
              "    </tr>\n",
              "    <tr>\n",
              "      <th>Emmanuel_Macron</th>\n",
              "      <td>2969.0</td>\n",
              "      <td>29.939374</td>\n",
              "      <td>13.032758</td>\n",
              "      <td>1.0</td>\n",
              "      <td>20.0</td>\n",
              "      <td>32.0</td>\n",
              "      <td>41.0</td>\n",
              "      <td>57.0</td>\n",
              "    </tr>\n",
              "    <tr>\n",
              "      <th>Eric_Zemmour</th>\n",
              "      <td>2752.0</td>\n",
              "      <td>25.817951</td>\n",
              "      <td>12.788038</td>\n",
              "      <td>1.0</td>\n",
              "      <td>16.0</td>\n",
              "      <td>26.0</td>\n",
              "      <td>36.0</td>\n",
              "      <td>55.0</td>\n",
              "    </tr>\n",
              "    <tr>\n",
              "      <th>JeanLuc_Melenchon</th>\n",
              "      <td>2756.0</td>\n",
              "      <td>33.462264</td>\n",
              "      <td>10.601255</td>\n",
              "      <td>3.0</td>\n",
              "      <td>26.0</td>\n",
              "      <td>35.0</td>\n",
              "      <td>42.0</td>\n",
              "      <td>57.0</td>\n",
              "    </tr>\n",
              "    <tr>\n",
              "      <th>Marine_Lepen</th>\n",
              "      <td>2782.0</td>\n",
              "      <td>35.859094</td>\n",
              "      <td>10.283902</td>\n",
              "      <td>1.0</td>\n",
              "      <td>31.0</td>\n",
              "      <td>39.0</td>\n",
              "      <td>43.0</td>\n",
              "      <td>56.0</td>\n",
              "    </tr>\n",
              "    <tr>\n",
              "      <th>Valerie_Pecresse</th>\n",
              "      <td>2399.0</td>\n",
              "      <td>35.304710</td>\n",
              "      <td>10.299847</td>\n",
              "      <td>1.0</td>\n",
              "      <td>30.0</td>\n",
              "      <td>38.0</td>\n",
              "      <td>43.0</td>\n",
              "      <td>58.0</td>\n",
              "    </tr>\n",
              "    <tr>\n",
              "      <th>Yannick_Jadot</th>\n",
              "      <td>1532.0</td>\n",
              "      <td>30.542428</td>\n",
              "      <td>11.402907</td>\n",
              "      <td>1.0</td>\n",
              "      <td>23.0</td>\n",
              "      <td>33.0</td>\n",
              "      <td>39.0</td>\n",
              "      <td>55.0</td>\n",
              "    </tr>\n",
              "  </tbody>\n",
              "</table>\n",
              "</div>\n",
              "      <button class=\"colab-df-convert\" onclick=\"convertToInteractive('df-2c67a41d-da7f-4ff9-94e9-1a10cbcd47b7')\"\n",
              "              title=\"Convert this dataframe to an interactive table.\"\n",
              "              style=\"display:none;\">\n",
              "        \n",
              "  <svg xmlns=\"http://www.w3.org/2000/svg\" height=\"24px\"viewBox=\"0 0 24 24\"\n",
              "       width=\"24px\">\n",
              "    <path d=\"M0 0h24v24H0V0z\" fill=\"none\"/>\n",
              "    <path d=\"M18.56 5.44l.94 2.06.94-2.06 2.06-.94-2.06-.94-.94-2.06-.94 2.06-2.06.94zm-11 1L8.5 8.5l.94-2.06 2.06-.94-2.06-.94L8.5 2.5l-.94 2.06-2.06.94zm10 10l.94 2.06.94-2.06 2.06-.94-2.06-.94-.94-2.06-.94 2.06-2.06.94z\"/><path d=\"M17.41 7.96l-1.37-1.37c-.4-.4-.92-.59-1.43-.59-.52 0-1.04.2-1.43.59L10.3 9.45l-7.72 7.72c-.78.78-.78 2.05 0 2.83L4 21.41c.39.39.9.59 1.41.59.51 0 1.02-.2 1.41-.59l7.78-7.78 2.81-2.81c.8-.78.8-2.07 0-2.86zM5.41 20L4 18.59l7.72-7.72 1.47 1.35L5.41 20z\"/>\n",
              "  </svg>\n",
              "      </button>\n",
              "      \n",
              "  <style>\n",
              "    .colab-df-container {\n",
              "      display:flex;\n",
              "      flex-wrap:wrap;\n",
              "      gap: 12px;\n",
              "    }\n",
              "\n",
              "    .colab-df-convert {\n",
              "      background-color: #E8F0FE;\n",
              "      border: none;\n",
              "      border-radius: 50%;\n",
              "      cursor: pointer;\n",
              "      display: none;\n",
              "      fill: #1967D2;\n",
              "      height: 32px;\n",
              "      padding: 0 0 0 0;\n",
              "      width: 32px;\n",
              "    }\n",
              "\n",
              "    .colab-df-convert:hover {\n",
              "      background-color: #E2EBFA;\n",
              "      box-shadow: 0px 1px 2px rgba(60, 64, 67, 0.3), 0px 1px 3px 1px rgba(60, 64, 67, 0.15);\n",
              "      fill: #174EA6;\n",
              "    }\n",
              "\n",
              "    [theme=dark] .colab-df-convert {\n",
              "      background-color: #3B4455;\n",
              "      fill: #D2E3FC;\n",
              "    }\n",
              "\n",
              "    [theme=dark] .colab-df-convert:hover {\n",
              "      background-color: #434B5C;\n",
              "      box-shadow: 0px 1px 3px 1px rgba(0, 0, 0, 0.15);\n",
              "      filter: drop-shadow(0px 1px 2px rgba(0, 0, 0, 0.3));\n",
              "      fill: #FFFFFF;\n",
              "    }\n",
              "  </style>\n",
              "\n",
              "      <script>\n",
              "        const buttonEl =\n",
              "          document.querySelector('#df-2c67a41d-da7f-4ff9-94e9-1a10cbcd47b7 button.colab-df-convert');\n",
              "        buttonEl.style.display =\n",
              "          google.colab.kernel.accessAllowed ? 'block' : 'none';\n",
              "\n",
              "        async function convertToInteractive(key) {\n",
              "          const element = document.querySelector('#df-2c67a41d-da7f-4ff9-94e9-1a10cbcd47b7');\n",
              "          const dataTable =\n",
              "            await google.colab.kernel.invokeFunction('convertToInteractive',\n",
              "                                                     [key], {});\n",
              "          if (!dataTable) return;\n",
              "\n",
              "          const docLinkHtml = 'Like what you see? Visit the ' +\n",
              "            '<a target=\"_blank\" href=https://colab.research.google.com/notebooks/data_table.ipynb>data table notebook</a>'\n",
              "            + ' to learn more about interactive tables.';\n",
              "          element.innerHTML = '';\n",
              "          dataTable['output_type'] = 'display_data';\n",
              "          await google.colab.output.renderOutput(dataTable, element);\n",
              "          const docLink = document.createElement('div');\n",
              "          docLink.innerHTML = docLinkHtml;\n",
              "          element.appendChild(docLink);\n",
              "        }\n",
              "      </script>\n",
              "    </div>\n",
              "  </div>\n",
              "  "
            ],
            "text/plain": [
              "                      count       mean        std  min   25%   50%   75%   max\n",
              "user_id                                                                       \n",
              "Anne_Hidalgo          838.0  31.445107  13.764054  2.0  20.0  36.0  43.0  54.0\n",
              "Christianne_Taubira  2402.0  19.308493   7.433403  1.0  15.0  19.0  22.0  52.0\n",
              "Emmanuel_Macron      2969.0  29.939374  13.032758  1.0  20.0  32.0  41.0  57.0\n",
              "Eric_Zemmour         2752.0  25.817951  12.788038  1.0  16.0  26.0  36.0  55.0\n",
              "JeanLuc_Melenchon    2756.0  33.462264  10.601255  3.0  26.0  35.0  42.0  57.0\n",
              "Marine_Lepen         2782.0  35.859094  10.283902  1.0  31.0  39.0  43.0  56.0\n",
              "Valerie_Pecresse     2399.0  35.304710  10.299847  1.0  30.0  38.0  43.0  58.0\n",
              "Yannick_Jadot        1532.0  30.542428  11.402907  1.0  23.0  33.0  39.0  55.0"
            ]
          },
          "metadata": {},
          "execution_count": 66
        }
      ]
    },
    {
      "cell_type": "markdown",
      "metadata": {
        "id": "vdKXU6wpDV4c"
      },
      "source": [
        "**Réponse** : TODO"
      ]
    },
    {
      "cell_type": "markdown",
      "metadata": {
        "id": "XqT4UpSJTfOH"
      },
      "source": [
        "##### Lecture de quelques tweets"
      ]
    },
    {
      "cell_type": "code",
      "metadata": {
        "id": "5lQNubmtRSPo"
      },
      "source": [
        "def print_famous_tweets(userID, nb_favorites) :\n",
        "\n",
        "  ''' Cette fonction permet de sélectionner les tweets qui ont eu le plus de favoris \n",
        "  pour un user_id donné, et de lire le tweet avec les indicateurs des autres variables de la \n",
        "  base de données  \n",
        "  '''\n",
        "\n",
        "  df_sub = df_tweets.loc[(df_tweets.user_id==userID) & (df_tweets.favorite_count > nb_favorites),:]\n",
        "  for irow in range(df_sub.shape[0]):\n",
        "      df_row = df_sub.iloc[irow,:]\n",
        "    \n",
        "      print(df_row[\"created_at\"])\n",
        "      print(\"favorite_count={:6} retweet_count={:6}\".format(df_row[\"favorite_count\"],df_row[\"retweet_count\"]))\n",
        "      print(colored(df_row[\"text\"], 'magenta'))\n",
        "      print(\"\\n\")"
      ],
      "execution_count": null,
      "outputs": []
    },
    {
      "cell_type": "code",
      "metadata": {
        "id": "cPPcOCJ3Rjkj",
        "colab": {
          "base_uri": "https://localhost:8080/"
        },
        "outputId": "d4a11bd7-1d18-403a-8b92-0515cc05ca1a"
      },
      "source": [
        "print_famous_tweets(\"JeanLuc_Melenchon\", 20000)"
      ],
      "execution_count": null,
      "outputs": [
        {
          "output_type": "stream",
          "name": "stdout",
          "text": [
            "2022-01-04 20:25:00\n",
            "favorite_count=21247.0 retweet_count=5719.0\n",
            "\u001b[35mLe Président maîtrise-t-il ce qu'il dit ? \n",
            "L'OMS dit « convaincre plutôt que contraindre ». Et lui ? « Emmerder davantage». Consternant.\n",
            "\n",
            "#Macron\u001b[0m\n",
            "\n",
            "\n",
            "2021-09-24 09:50:27\n",
            "favorite_count=21142.0 retweet_count=2604.0\n",
            "\u001b[35mHier, près de 100 000 personnes suivaient le #DebatBFMTV sur #Twitch sur les chaînes de @Sardoche_Lol, @HugoTravers et @DanyCaligula. Mais suite à une réclamation, ces comptes ont été ban 48h. Je le signale à Fogiel. Il faut que ça change pendant la campagne.\u001b[0m\n",
            "\n",
            "\n"
          ]
        }
      ]
    },
    {
      "cell_type": "code",
      "metadata": {
        "id": "-5zzgYN4vEBe",
        "colab": {
          "base_uri": "https://localhost:8080/"
        },
        "outputId": "1fd06460-c441-4035-a103-427a70f1ab66"
      },
      "source": [
        "print_famous_tweets(\"Marine_Lepen\", 10000)"
      ],
      "execution_count": null,
      "outputs": [
        {
          "output_type": "stream",
          "name": "stdout",
          "text": [
            "2021-12-31 16:43:49\n",
            "favorite_count=14474.0 retweet_count=4097.0\n",
            "\u001b[35mJe suis outrée que le drapeau français ait été remplacé par celui de l’Union européenne sous l’Arc de Triomphe, au-dessus de la tombe du soldat inconnu. \n",
            "\n",
            "Cette provocation offense ceux qui se sont battus pour la France. Je demande à E. Macron de rétablir notre drapeau national. https://t.co/sR2IfjV3sG\u001b[0m\n",
            "\n",
            "\n",
            "2020-03-14 06:33:42\n",
            "favorite_count=10881.0 retweet_count=3051.0\n",
            "\u001b[35m🇫🇷🇮🇹 Les Italiens, unis face à l’épidémie, se retrouvent à leurs balcons pour chanter leur hymne national. Très belles images de communion patriotique. \n",
            "\n",
            "Nous sommes de tout cœur avec vous ! ❤️ MLP https://t.co/XKBAtPY1K4\u001b[0m\n",
            "\n",
            "\n"
          ]
        }
      ]
    },
    {
      "cell_type": "code",
      "source": [
        "print_famous_tweets(\"Eric_Zemmour\", 20000)"
      ],
      "metadata": {
        "id": "Zraxd1fQtWs4",
        "colab": {
          "base_uri": "https://localhost:8080/"
        },
        "outputId": "7f421137-6ba1-4150-e5d5-62e97e985f4a"
      },
      "execution_count": null,
      "outputs": [
        {
          "output_type": "stream",
          "name": "stdout",
          "text": [
            "2022-01-05 16:24:53\n",
            "favorite_count=24894.0 retweet_count=8151.0\n",
            "\u001b[35mPendant 5 ans, Emmanuel Macron a soigneusement refusé d'« emmerder » les racailles, les gangs, les apprentis-djihadistes, les immigrés hors-la-loi, les antifas et les idéologues qui lavent les cerveaux de nos enfants. Lâche avec les forts, cruel avec les faibles.\u001b[0m\n",
            "\n",
            "\n",
            "2022-01-04 22:53:13\n",
            "favorite_count=24902.0 retweet_count=7461.0\n",
            "\u001b[35mEmmanuel Macron dit bel et bien : \"J'ai envie d'emmerder\". Ce n'est pas seulement la déclaration cynique d'un politicien qui veut exister dans la campagne présidentielle. C'est la cruauté avouée, assumée, qui parade devant des Français méprisés.\u001b[0m\n",
            "\n",
            "\n",
            "2021-11-30 11:29:07\n",
            "favorite_count=34664.0 retweet_count=8698.0\n",
            "\u001b[35mMes chers compatriotes, je suis candidat à l'élection présidentielle.\u001b[0m\n",
            "\n",
            "\n"
          ]
        }
      ]
    },
    {
      "cell_type": "markdown",
      "metadata": {
        "id": "3kZrXKcf5auz"
      },
      "source": [
        "> **Question** : Qu'y-a't'il de particulier dans les tweets par rapport à un texte normal ?"
      ]
    },
    {
      "cell_type": "markdown",
      "metadata": {
        "id": "uFb2KGuIDeDk"
      },
      "source": [
        "**Réponse** :  Il y a des liens, des émojies, des #, des liens"
      ]
    },
    {
      "cell_type": "markdown",
      "source": [
        "### **Filtres**\n",
        "\n",
        "- Filtre sur la date pour ne prendre en compte que la campagne électorale (début septembre 2021)\n",
        "- Filtre sur certains candidats pour que les traitements ne soient pas trop longs"
      ],
      "metadata": {
        "id": "VeNx3LdQtuAw"
      }
    },
    {
      "cell_type": "code",
      "source": [
        "DATE_MIN = \"2021-09-01 00:00:00\"\n",
        "\n",
        "df_tweets = df_tweets.loc[df_tweets[\"created_at\"] >= datetime.strptime(DATE_MIN, \"%Y-%m-%d %H:%M:%S\")] \n",
        "\n",
        "print(f\"Taille du dataframe : {len(df_tweets)}\")"
      ],
      "metadata": {
        "id": "4_k9q9EotuVV",
        "colab": {
          "base_uri": "https://localhost:8080/"
        },
        "outputId": "7b7084cb-362d-4386-d8a1-38187bda74d1"
      },
      "execution_count": null,
      "outputs": [
        {
          "output_type": "stream",
          "name": "stdout",
          "text": [
            "Taille du dataframe : 8749\n"
          ]
        }
      ]
    },
    {
      "cell_type": "code",
      "source": [
        "candidats_select = [\"Eric_Zemmour\",\"JeanLuc_Melenchon\",\"Emmanuel_Macron\",\"Marine_Lepen\"] #TODO : choisir des candidats\n",
        "                    \n",
        "df_tweets = df_tweets.loc[df_tweets.user_id.isin(candidats_select)]\n",
        "\n",
        "print(f\"Taille du dataframe : {len(df_tweets)}\")"
      ],
      "metadata": {
        "id": "YMSBHP1d_O4C",
        "colab": {
          "base_uri": "https://localhost:8080/"
        },
        "outputId": "20bba426-ef86-4cc6-b1a7-02830abadd02"
      },
      "execution_count": null,
      "outputs": [
        {
          "output_type": "stream",
          "name": "stdout",
          "text": [
            "Taille du dataframe : 5156\n"
          ]
        }
      ]
    },
    {
      "cell_type": "markdown",
      "metadata": {
        "id": "8DhFHdNx0cMZ"
      },
      "source": [
        "## **3. Preprocessing du texte**\n",
        "\n",
        "On va prendre en compte les particularités des tweets pour nettoyer le texte. \\\n",
        "On va tester les techniques de preprocessing des cours précédents sur du texte français : \n",
        "- stopwords\n",
        "- lemmatisation\n",
        "- tokenisation\n"
      ]
    },
    {
      "cell_type": "markdown",
      "metadata": {
        "id": "JKly-cTpaO0x"
      },
      "source": [
        "### Nettoyage du texte\n",
        "Dans cette partie du TP, on nettoie le texte pour enlever les mots qui vont rajouter du bruit à l'analyse (et ne rien apporter) \\\n",
        "Pour nettoyer le texte : \n",
        "- suppression des chiffres\n",
        "- suppression de certaines expressions grâce à des expressions régulières\n",
        "- suppression des stopwords\n"
      ]
    },
    {
      "cell_type": "code",
      "metadata": {
        "id": "vXZ5nMoMGm_x",
        "colab": {
          "base_uri": "https://localhost:8080/"
        },
        "outputId": "92bbc177-0df4-432c-ef66-00a2588c4b97"
      },
      "source": [
        "# on charge le modèle français de spacy\n",
        "nlp = fr_core_news_md.load()\n",
        "print(len(nlp.Defaults.stop_words))\n",
        "\n",
        "# on peut rajouter des stopwords à la liste de spacy de cette manière : \n",
        "nlp.Defaults.stop_words |= {\"avoir\", \"falloir\", \"faire\", \"monsieur\", \"direct\",\n",
        "                            \"interview\", \"livetweet\", \"suivez\", r\"invité\\w+\", r\"(chaîne )?youtube\", \"mlp\"}\n",
        "\n",
        "# boucle pour que les stopwords ajoutés fonctionnent\n",
        "for word in nlp.Defaults.stop_words :\n",
        "    for w in (word, word[0].capitalize(), word.upper()):\n",
        "        lex = nlp.vocab[w]\n",
        "        lex.is_stop = True\n",
        "\n",
        "# nombre de stopwords \n",
        "len(nlp.Defaults.stop_words)"
      ],
      "execution_count": null,
      "outputs": [
        {
          "output_type": "stream",
          "name": "stdout",
          "text": [
            "610\n"
          ]
        },
        {
          "output_type": "execute_result",
          "data": {
            "text/plain": [
              "610"
            ]
          },
          "metadata": {},
          "execution_count": 73
        }
      ]
    },
    {
      "cell_type": "markdown",
      "metadata": {
        "id": "Y1OFocC9d6cG"
      },
      "source": [
        "> **Conseil** :  Regarder toujours la liste entière de stopwords proposés pour enlever certains mots qui seraient utiles dans votre étude ou rajouter des stopwords non présents dans la liste"
      ]
    },
    {
      "cell_type": "markdown",
      "source": [
        "La cellule ci-dessous donne un exemple d'informations que peut donner Spacy : "
      ],
      "metadata": {
        "id": "3koKOPcshOBZ"
      }
    },
    {
      "cell_type": "code",
      "source": [
        "doc = nlp(\"Demain je travaille \\\\n\\\\n à la maison. #fatigué @hetik \\\\n https://test.com\")\n",
        "\n",
        "list_spacy = []\n",
        "                \n",
        "for token in doc : \n",
        "  list_spacy.append([token.text,\n",
        "                        token.idx,\n",
        "                        token.lemma_,\n",
        "                        token.is_punct,\n",
        "                        token.is_space,\n",
        "                        token.is_alpha,\n",
        "                        token.shape_,\n",
        "                        token.pos_,\n",
        "                        token.tag_,\n",
        "                        token.ent_type_])\n",
        "  \n",
        "exemple_spacy = pd.DataFrame(list_spacy, columns=[\"text\", \"idx\",\"lemma\",\"is_punct\",\"is_space\",\"is_alpha\",\"shape\",\"pos\",\"tag\",\"ent_type\"])\n",
        "exemple_spacy"
      ],
      "metadata": {
        "id": "0Oz6LXuV9r3T",
        "colab": {
          "base_uri": "https://localhost:8080/",
          "height": 457
        },
        "outputId": "51be5f4c-6682-41b0-80e5-3e71e08ea096"
      },
      "execution_count": null,
      "outputs": [
        {
          "output_type": "execute_result",
          "data": {
            "text/html": [
              "\n",
              "  <div id=\"df-cd9838b5-0824-4f66-ab90-dd054201031c\">\n",
              "    <div class=\"colab-df-container\">\n",
              "      <div>\n",
              "<style scoped>\n",
              "    .dataframe tbody tr th:only-of-type {\n",
              "        vertical-align: middle;\n",
              "    }\n",
              "\n",
              "    .dataframe tbody tr th {\n",
              "        vertical-align: top;\n",
              "    }\n",
              "\n",
              "    .dataframe thead th {\n",
              "        text-align: right;\n",
              "    }\n",
              "</style>\n",
              "<table border=\"1\" class=\"dataframe\">\n",
              "  <thead>\n",
              "    <tr style=\"text-align: right;\">\n",
              "      <th></th>\n",
              "      <th>text</th>\n",
              "      <th>idx</th>\n",
              "      <th>lemma</th>\n",
              "      <th>is_punct</th>\n",
              "      <th>is_space</th>\n",
              "      <th>is_alpha</th>\n",
              "      <th>shape</th>\n",
              "      <th>pos</th>\n",
              "      <th>tag</th>\n",
              "      <th>ent_type</th>\n",
              "    </tr>\n",
              "  </thead>\n",
              "  <tbody>\n",
              "    <tr>\n",
              "      <th>0</th>\n",
              "      <td>Demain</td>\n",
              "      <td>0</td>\n",
              "      <td>demain</td>\n",
              "      <td>False</td>\n",
              "      <td>False</td>\n",
              "      <td>True</td>\n",
              "      <td>Xxxxx</td>\n",
              "      <td>ADV</td>\n",
              "      <td>ADV___</td>\n",
              "      <td></td>\n",
              "    </tr>\n",
              "    <tr>\n",
              "      <th>1</th>\n",
              "      <td>je</td>\n",
              "      <td>7</td>\n",
              "      <td>je</td>\n",
              "      <td>False</td>\n",
              "      <td>False</td>\n",
              "      <td>True</td>\n",
              "      <td>xx</td>\n",
              "      <td>PRON</td>\n",
              "      <td>PRON__Number=Sing|Person=1</td>\n",
              "      <td></td>\n",
              "    </tr>\n",
              "    <tr>\n",
              "      <th>2</th>\n",
              "      <td>travaille</td>\n",
              "      <td>10</td>\n",
              "      <td>travaille</td>\n",
              "      <td>False</td>\n",
              "      <td>False</td>\n",
              "      <td>True</td>\n",
              "      <td>xxxx</td>\n",
              "      <td>VERB</td>\n",
              "      <td>VERB__Mood=Ind|Number=Sing|Person=1|Tense=Pres...</td>\n",
              "      <td></td>\n",
              "    </tr>\n",
              "    <tr>\n",
              "      <th>3</th>\n",
              "      <td>\\n\\n</td>\n",
              "      <td>20</td>\n",
              "      <td>\\n\\n</td>\n",
              "      <td>False</td>\n",
              "      <td>False</td>\n",
              "      <td>False</td>\n",
              "      <td>\\x\\x</td>\n",
              "      <td>ADJ</td>\n",
              "      <td>ADJ___</td>\n",
              "      <td></td>\n",
              "    </tr>\n",
              "    <tr>\n",
              "      <th>4</th>\n",
              "      <td>à</td>\n",
              "      <td>25</td>\n",
              "      <td>à</td>\n",
              "      <td>False</td>\n",
              "      <td>False</td>\n",
              "      <td>True</td>\n",
              "      <td>x</td>\n",
              "      <td>ADP</td>\n",
              "      <td>ADP___</td>\n",
              "      <td></td>\n",
              "    </tr>\n",
              "    <tr>\n",
              "      <th>5</th>\n",
              "      <td>la</td>\n",
              "      <td>27</td>\n",
              "      <td>le</td>\n",
              "      <td>False</td>\n",
              "      <td>False</td>\n",
              "      <td>True</td>\n",
              "      <td>xx</td>\n",
              "      <td>DET</td>\n",
              "      <td>DET__Definite=Def|Gender=Fem|Number=Sing|PronT...</td>\n",
              "      <td></td>\n",
              "    </tr>\n",
              "    <tr>\n",
              "      <th>6</th>\n",
              "      <td>maison</td>\n",
              "      <td>30</td>\n",
              "      <td>maison</td>\n",
              "      <td>False</td>\n",
              "      <td>False</td>\n",
              "      <td>True</td>\n",
              "      <td>xxxx</td>\n",
              "      <td>NOUN</td>\n",
              "      <td>NOUN__Gender=Fem|Number=Sing</td>\n",
              "      <td></td>\n",
              "    </tr>\n",
              "    <tr>\n",
              "      <th>7</th>\n",
              "      <td>.</td>\n",
              "      <td>36</td>\n",
              "      <td>.</td>\n",
              "      <td>True</td>\n",
              "      <td>False</td>\n",
              "      <td>False</td>\n",
              "      <td>.</td>\n",
              "      <td>PUNCT</td>\n",
              "      <td>PUNCT___</td>\n",
              "      <td></td>\n",
              "    </tr>\n",
              "    <tr>\n",
              "      <th>8</th>\n",
              "      <td>#</td>\n",
              "      <td>38</td>\n",
              "      <td>#</td>\n",
              "      <td>True</td>\n",
              "      <td>False</td>\n",
              "      <td>False</td>\n",
              "      <td>#</td>\n",
              "      <td>NOUN</td>\n",
              "      <td>NOUN__Gender=Fem|Number=Sing</td>\n",
              "      <td></td>\n",
              "    </tr>\n",
              "    <tr>\n",
              "      <th>9</th>\n",
              "      <td>fatigué</td>\n",
              "      <td>39</td>\n",
              "      <td>fatiguer</td>\n",
              "      <td>False</td>\n",
              "      <td>False</td>\n",
              "      <td>True</td>\n",
              "      <td>xxxx</td>\n",
              "      <td>VERB</td>\n",
              "      <td>VERB__Gender=Masc|Number=Sing|Tense=Past|VerbF...</td>\n",
              "      <td></td>\n",
              "    </tr>\n",
              "    <tr>\n",
              "      <th>10</th>\n",
              "      <td>@hetik</td>\n",
              "      <td>47</td>\n",
              "      <td>@hetik</td>\n",
              "      <td>False</td>\n",
              "      <td>False</td>\n",
              "      <td>False</td>\n",
              "      <td>@xxxx</td>\n",
              "      <td>PROPN</td>\n",
              "      <td>PROPN___</td>\n",
              "      <td></td>\n",
              "    </tr>\n",
              "    <tr>\n",
              "      <th>11</th>\n",
              "      <td>\\n</td>\n",
              "      <td>54</td>\n",
              "      <td>\\n</td>\n",
              "      <td>False</td>\n",
              "      <td>False</td>\n",
              "      <td>False</td>\n",
              "      <td>\\x</td>\n",
              "      <td>SPACE</td>\n",
              "      <td>_SP</td>\n",
              "      <td></td>\n",
              "    </tr>\n",
              "    <tr>\n",
              "      <th>12</th>\n",
              "      <td>https://test.com</td>\n",
              "      <td>57</td>\n",
              "      <td>https://test.com</td>\n",
              "      <td>False</td>\n",
              "      <td>False</td>\n",
              "      <td>False</td>\n",
              "      <td>xxxx://xxxx.xxx</td>\n",
              "      <td>VERB</td>\n",
              "      <td>VERB__Tense=Past|VerbForm=Part|Voice=Pass</td>\n",
              "      <td></td>\n",
              "    </tr>\n",
              "  </tbody>\n",
              "</table>\n",
              "</div>\n",
              "      <button class=\"colab-df-convert\" onclick=\"convertToInteractive('df-cd9838b5-0824-4f66-ab90-dd054201031c')\"\n",
              "              title=\"Convert this dataframe to an interactive table.\"\n",
              "              style=\"display:none;\">\n",
              "        \n",
              "  <svg xmlns=\"http://www.w3.org/2000/svg\" height=\"24px\"viewBox=\"0 0 24 24\"\n",
              "       width=\"24px\">\n",
              "    <path d=\"M0 0h24v24H0V0z\" fill=\"none\"/>\n",
              "    <path d=\"M18.56 5.44l.94 2.06.94-2.06 2.06-.94-2.06-.94-.94-2.06-.94 2.06-2.06.94zm-11 1L8.5 8.5l.94-2.06 2.06-.94-2.06-.94L8.5 2.5l-.94 2.06-2.06.94zm10 10l.94 2.06.94-2.06 2.06-.94-2.06-.94-.94-2.06-.94 2.06-2.06.94z\"/><path d=\"M17.41 7.96l-1.37-1.37c-.4-.4-.92-.59-1.43-.59-.52 0-1.04.2-1.43.59L10.3 9.45l-7.72 7.72c-.78.78-.78 2.05 0 2.83L4 21.41c.39.39.9.59 1.41.59.51 0 1.02-.2 1.41-.59l7.78-7.78 2.81-2.81c.8-.78.8-2.07 0-2.86zM5.41 20L4 18.59l7.72-7.72 1.47 1.35L5.41 20z\"/>\n",
              "  </svg>\n",
              "      </button>\n",
              "      \n",
              "  <style>\n",
              "    .colab-df-container {\n",
              "      display:flex;\n",
              "      flex-wrap:wrap;\n",
              "      gap: 12px;\n",
              "    }\n",
              "\n",
              "    .colab-df-convert {\n",
              "      background-color: #E8F0FE;\n",
              "      border: none;\n",
              "      border-radius: 50%;\n",
              "      cursor: pointer;\n",
              "      display: none;\n",
              "      fill: #1967D2;\n",
              "      height: 32px;\n",
              "      padding: 0 0 0 0;\n",
              "      width: 32px;\n",
              "    }\n",
              "\n",
              "    .colab-df-convert:hover {\n",
              "      background-color: #E2EBFA;\n",
              "      box-shadow: 0px 1px 2px rgba(60, 64, 67, 0.3), 0px 1px 3px 1px rgba(60, 64, 67, 0.15);\n",
              "      fill: #174EA6;\n",
              "    }\n",
              "\n",
              "    [theme=dark] .colab-df-convert {\n",
              "      background-color: #3B4455;\n",
              "      fill: #D2E3FC;\n",
              "    }\n",
              "\n",
              "    [theme=dark] .colab-df-convert:hover {\n",
              "      background-color: #434B5C;\n",
              "      box-shadow: 0px 1px 3px 1px rgba(0, 0, 0, 0.15);\n",
              "      filter: drop-shadow(0px 1px 2px rgba(0, 0, 0, 0.3));\n",
              "      fill: #FFFFFF;\n",
              "    }\n",
              "  </style>\n",
              "\n",
              "      <script>\n",
              "        const buttonEl =\n",
              "          document.querySelector('#df-cd9838b5-0824-4f66-ab90-dd054201031c button.colab-df-convert');\n",
              "        buttonEl.style.display =\n",
              "          google.colab.kernel.accessAllowed ? 'block' : 'none';\n",
              "\n",
              "        async function convertToInteractive(key) {\n",
              "          const element = document.querySelector('#df-cd9838b5-0824-4f66-ab90-dd054201031c');\n",
              "          const dataTable =\n",
              "            await google.colab.kernel.invokeFunction('convertToInteractive',\n",
              "                                                     [key], {});\n",
              "          if (!dataTable) return;\n",
              "\n",
              "          const docLinkHtml = 'Like what you see? Visit the ' +\n",
              "            '<a target=\"_blank\" href=https://colab.research.google.com/notebooks/data_table.ipynb>data table notebook</a>'\n",
              "            + ' to learn more about interactive tables.';\n",
              "          element.innerHTML = '';\n",
              "          dataTable['output_type'] = 'display_data';\n",
              "          await google.colab.output.renderOutput(dataTable, element);\n",
              "          const docLink = document.createElement('div');\n",
              "          docLink.innerHTML = docLinkHtml;\n",
              "          element.appendChild(docLink);\n",
              "        }\n",
              "      </script>\n",
              "    </div>\n",
              "  </div>\n",
              "  "
            ],
            "text/plain": [
              "                text  ...  ent_type\n",
              "0             Demain  ...          \n",
              "1                 je  ...          \n",
              "2          travaille  ...          \n",
              "3               \\n\\n  ...          \n",
              "4                  à  ...          \n",
              "5                 la  ...          \n",
              "6             maison  ...          \n",
              "7                  .  ...          \n",
              "8                  #  ...          \n",
              "9            fatigué  ...          \n",
              "10            @hetik  ...          \n",
              "11                \\n  ...          \n",
              "12  https://test.com  ...          \n",
              "\n",
              "[13 rows x 10 columns]"
            ]
          },
          "metadata": {},
          "execution_count": 74
        }
      ]
    },
    {
      "cell_type": "markdown",
      "metadata": {
        "id": "Jmt4HyRYFc3v"
      },
      "source": [
        "Expressions régulières pour nettoyer le texte "
      ]
    },
    {
      "cell_type": "code",
      "metadata": {
        "id": "2lRtXHvi8K_H"
      },
      "source": [
        "regexp_link = re.compile(r\"http\\S+\") # suppression des liens\n",
        "regexp_number = re.compile(r\"\\d+[h., ]?\\d*\") # suppression des chiffres"
      ],
      "execution_count": null,
      "outputs": []
    },
    {
      "cell_type": "markdown",
      "metadata": {
        "id": "MAyZ8veVFz36"
      },
      "source": [
        "**TODO** : Créer une expression régulière pour supprimer les hashtags et @ \n",
        "\n",
        "Remplacer le #TODO dans la cellule suivante par une expression régulière.\n",
        "\n",
        "Votre regexp fonctionne si vous trouver \" ça  marche  !!\""
      ]
    },
    {
      "cell_type": "markdown",
      "metadata": {
        "id": "W9a6YQrBGs8s"
      },
      "source": [
        "<details>    \n",
        "<summary>\n",
        "    <font size=\"3\" color=\"darkgreen\"><b>Aide</b></font>\n",
        "</summary>\n",
        "<p>\n",
        "Lorsque vous cherchez à créer des expressions régulières, vous pouvez vous aider en allant sur ce site : <a href=\"https://regex101.com/\" >regex101.com</a> \n",
        "</p> "
      ]
    },
    {
      "cell_type": "code",
      "metadata": {
        "id": "jHi1pQKqFzAv",
        "colab": {
          "base_uri": "https://localhost:8080/",
          "height": 36
        },
        "outputId": "b951ccd9-8b92-48ae-8d4c-d83ed507a4fa"
      },
      "source": [
        "# suppression des hashtags et @\n",
        "regexp_hashtags = re.compile(r\"[#@]\\S+\")    \n",
        "\n",
        "test_hashtags = \"#Fuck ça #ne marche @pas !!\"\n",
        "re.sub(regexp_hashtags, \"\", test_hashtags)"
      ],
      "execution_count": null,
      "outputs": [
        {
          "output_type": "execute_result",
          "data": {
            "application/vnd.google.colaboratory.intrinsic+json": {
              "type": "string"
            },
            "text/plain": [
              "' ça  marche  !!'"
            ]
          },
          "metadata": {},
          "execution_count": 82
        }
      ]
    },
    {
      "cell_type": "markdown",
      "metadata": {
        "id": "6nxhbp6BtLeK"
      },
      "source": [
        "Création de la fonction de nettoyage du texte \n",
        "\n",
        "**TODO** : coder plusieurs fonctions :      \n",
        "- une fonction `clean_text_spacy` qui prend en entrée un tweet et utilise spacy pour :     \n",
        "    - supprimer les ponctuations ; \n",
        "    - supprimer les stopwords ; \n",
        "    - supprimer les caractères de type espace (/n, /t, etc.)\n",
        "Cette fonction garde les tokens entiers\n",
        "- une fonction `clean_lemmatize` :     \n",
        "    - supprimer les ponctuations ; \n",
        "    - supprimer les stopwords ; \n",
        "    - supprimer les caractères de type espace (/n, /t, etc.)\n",
        "Cette fonction garde non pas les tokens entiers, mais les lemmes. \n",
        "- une fonction chapeau `preprocess_tweet` qui : \n",
        "  - met les mots en minuscule\n",
        "  - supprime les mots des expressions régulières\n",
        "  - au choix applique la fonction `clean_text_spacy` ou `clean_lemmatize`"
      ]
    },
    {
      "cell_type": "markdown",
      "source": [
        "<details>    \n",
        "<summary>\n",
        "    <font size=\"3\" color=\"darkgreen\"><b>Aide</b></font>\n",
        "</summary>\n",
        "<p>\n",
        "Lorsque vous utilisez les fonctions de spacy, vous allez potentiellement les tokeniser directement (et récupérer une liste au lieu d'un texte). Pour éviter cela, transformez le résultat de cette manière :    \n",
        "\n",
        "```\n",
        "result = \" \".join(result)\n",
        "```\n",
        "\n",
        "</p> "
      ],
      "metadata": {
        "id": "BuNS4dWLflUT"
      }
    },
    {
      "cell_type": "code",
      "metadata": {
        "id": "B8dU2rFVIEvt"
      },
      "source": [
        "def clean_txt_spacy(doc):\n",
        "\n",
        "  txt = [token.text for token in doc if not token.is_stop and not token.is_punct and not token.is_space]\n",
        "  txt = \" \".join(txt)\n",
        "  return txt\n",
        "\n",
        "\n",
        "def clean_lemmatize(doc):\n",
        "\n",
        "  lemmatized_txt = [token.lemma_ for token in doc if not token.is_stop and not token.is_punct and not token.is_space]\n",
        "  lemmatized_txt = \" \".join(lemmatized_txt)\n",
        "  return lemmatized_txt\n",
        "\n"
      ],
      "execution_count": null,
      "outputs": []
    },
    {
      "cell_type": "markdown",
      "source": [
        "<details>    \n",
        "<summary>\n",
        "    <font size=\"3\" color=\"darkgreen\"><b>Aide</b></font>\n",
        "</summary>\n",
        "<p>\n",
        "- Utiliser re.sub() pour supprimer les liens, hashtags, chiffres\n",
        "</p> "
      ],
      "metadata": {
        "id": "bYG5VdneVdJB"
      }
    },
    {
      "cell_type": "code",
      "metadata": {
        "id": "GJYjHlY6uuTV"
      },
      "source": [
        "def preprocess_tweet(text, lemmatizing = True):\n",
        "\n",
        "  '''Fonction permettant de nettoyer le texte. Elle renvoie un string (pas de tokenisation encore)'''\n",
        "  text_clean = text.lower().encode('utf-8').decode('utf-8')\n",
        "  #TODO : supprimer du texte les liens, hashtags et chiffres avec les regexp précédentes\n",
        "  text_clean = re.sub(regexp_link, \"\", text_clean)\n",
        "  text_clean = re.sub(regexp_hashtags, \"\", text_clean)\n",
        "  text_clean = re.sub(regexp_number, \"\", text_clean)\n",
        "\n",
        "  doc = nlp(text_clean)  \n",
        "  if lemmatizing : \n",
        "    preprocessed_tweet = clean_lemmatize(doc)\n",
        "  else : \n",
        "    preprocessed_tweet = clean_txt_spacy(doc)\n",
        "\n",
        "  return preprocessed_tweet"
      ],
      "execution_count": null,
      "outputs": []
    },
    {
      "cell_type": "code",
      "metadata": {
        "id": "Q29TpjgduNNn",
        "colab": {
          "base_uri": "https://localhost:8080/",
          "height": 36
        },
        "outputId": "8215f737-0c15-403f-a2cd-8d181433e365"
      },
      "source": [
        "# exemple pour tester sa fonction \n",
        "tweet_test = \"Ils Pensaient se moquer #non, ils m'ont donné 1 slogan !😄 \\n\\n- Entretien à découvrir et partager \\n\\nhttps://t.co/Yn60Areagu\"\n",
        "\n",
        "preprocess_tweet(tweet_test, lemmatizing=True)"
      ],
      "execution_count": null,
      "outputs": [
        {
          "output_type": "execute_result",
          "data": {
            "application/vnd.google.colaboratory.intrinsic+json": {
              "type": "string"
            },
            "text/plain": [
              "'pensaient moquer donner slogan 😄 entretien découvrir partager'"
            ]
          },
          "metadata": {},
          "execution_count": 94
        }
      ]
    },
    {
      "cell_type": "markdown",
      "metadata": {
        "id": "EM7IBszTuzPI"
      },
      "source": [
        "Réponse attendue : \n",
        "```python \n",
        "'pensaient moquer donner slogan 😄 entretien découvrir partager'\n",
        "```"
      ]
    },
    {
      "cell_type": "code",
      "metadata": {
        "id": "yIm-BrUhur1c"
      },
      "source": [
        "# On peut alors nettoyer nos tweets, et créer une nouvelle colonne, text_preprocess\n",
        "# cela peut prendre un peu de temps à tourner\n",
        "df_tweets[\"text_preprocess\"] = df_tweets[\"text\"].apply(lambda tweet : preprocess_tweet(tweet, lemmatizing=True))"
      ],
      "execution_count": null,
      "outputs": []
    },
    {
      "cell_type": "code",
      "metadata": {
        "id": "3r_igOqC6JGL",
        "colab": {
          "base_uri": "https://localhost:8080/",
          "height": 633
        },
        "outputId": "3bc5f500-cb04-4cb3-981f-dbdb03171acc"
      },
      "source": [
        "# On regarde le résultat du nettoyage du texte\n",
        "pd.set_option(\"max_colwidth\", None)\n",
        "df_tweets[[\"text\", \"text_preprocess\"]].head(10)"
      ],
      "execution_count": null,
      "outputs": [
        {
          "output_type": "execute_result",
          "data": {
            "text/html": [
              "\n",
              "  <div id=\"df-51c21188-4174-4910-b384-4da8d8f3384c\">\n",
              "    <div class=\"colab-df-container\">\n",
              "      <div>\n",
              "<style scoped>\n",
              "    .dataframe tbody tr th:only-of-type {\n",
              "        vertical-align: middle;\n",
              "    }\n",
              "\n",
              "    .dataframe tbody tr th {\n",
              "        vertical-align: top;\n",
              "    }\n",
              "\n",
              "    .dataframe thead th {\n",
              "        text-align: right;\n",
              "    }\n",
              "</style>\n",
              "<table border=\"1\" class=\"dataframe\">\n",
              "  <thead>\n",
              "    <tr style=\"text-align: right;\">\n",
              "      <th></th>\n",
              "      <th>text</th>\n",
              "      <th>text_preprocess</th>\n",
              "    </tr>\n",
              "  </thead>\n",
              "  <tbody>\n",
              "    <tr>\n",
              "      <th>0</th>\n",
              "      <td>Redonner du sens à la gauche : se rassembler avec le Parlement de l'Union Populaire - Tribune de membres du @ParlementPop. \\n\\nhttps://t.co/JzBPeFNSOz</td>\n",
              "      <td>redonner sens gauche rassembler parlement union populaire tribune membre</td>\n",
              "    </tr>\n",
              "    <tr>\n",
              "      <th>1</th>\n",
              "      <td>L’inscription sur les listes électorales c’est jusqu’au 4 mars et c’est le moyen de faire \\n✅ la 6e République\\n✅ le SMIC à 1400€ nets\\n✅ la règle verte \\n✅ la retraite à 60 ans\\n✅ une France indépendante au service de la paix\\n\\n➡️ Ça se passe ici : https://t.co/FJUbiFzRFI https://t.co/orrqlIgQ42</td>\n",
              "      <td>inscription liste électoral jusqu’ mars moyen ✅ e république ✅ smic euro net ✅ règle vert ✅ retraite an ✅ france indépendant service paix ➡ ️ passer ici</td>\n",
              "    </tr>\n",
              "    <tr>\n",
              "      <th>2</th>\n",
              "      <td>🔴 Rendez-vous ce dimanche 30 janvier à 20h55 sur France 5 pour #cdanslair. https://t.co/Z7nsNC1rg4</td>\n",
              "      <td>🔴 rendre dimanche janvier france</td>\n",
              "    </tr>\n",
              "    <tr>\n",
              "      <th>3</th>\n",
              "      <td>3 solutions pour financer la retraite à 60 ans\\n\\n✅ Égalité salariale femmes-hommes\\n✅ Augmenter les cotisations pour les salaires supérieurs à 3400€\\n✅ Augmenter les cotisations patronales avec un fond de péréquation inter-entreprises pour que les grosses payent pour les petites https://t.co/WSCD1xX5Qt</td>\n",
              "      <td>solution financer retraite an ✅ égalité salarial femme homme ✅ augmenter cotisation salaire supérieur euro ✅ augmenter cotisation patronal fond péréquation inter-entrepriser gros payer petit</td>\n",
              "    </tr>\n",
              "    <tr>\n",
              "      <th>4</th>\n",
              "      <td>La Méditerranée est le plus grand cimetière du monde. Ceux qui émigrent ne partent pas par plaisir. Il faut donc arrêter les accords commerciaux déséquilibrés. Mais quand les gens sont là, il ne faut pas les maltraiter. Il faut les traiter humainement et dignement.\\n\\n#FaceABaba https://t.co/K2VLIbH7dI</td>\n",
              "      <td>méditerranée grand cimetière monde émigrer partir plaisir falloir arrêter accord commercial déséquilibré falloir maltraiter falloir traiter humainement dignement</td>\n",
              "    </tr>\n",
              "    <tr>\n",
              "      <th>5</th>\n",
              "      <td>Retour d'émission #FaceABaba - Nouvelle note de blog\\nhttps://t.co/ayMGflKdv9</td>\n",
              "      <td>émission nouveau note blog</td>\n",
              "    </tr>\n",
              "    <tr>\n",
              "      <th>6</th>\n",
              "      <td>Le jour de mes 50 ans, la fille de Raquel et d'autres m'ont offert un drapeau de la France de 7 mètres de long. On a posé cette petite fille sur ce grand drapeau, tous les larmes aux yeux. Vive la République. #FaceABaba #AvecMelenchon https://t.co/kFfgejSWyz</td>\n",
              "      <td>jour an fille raquel offrir drapeau france mètre long poser petit fille grand drapeau larme oeil république</td>\n",
              "    </tr>\n",
              "    <tr>\n",
              "      <th>7</th>\n",
              "      <td>La majeure partie de la dette publique de la zone Euro appartient à la Banque Centrale Européenne. Il faut geler ces titres, parce que cette dette ne sera jamais remboursée et qu'elle nous empêche de faire les investissements dont nous avons besoin.\\n#FaceABaba\\n#AvecMelenchon https://t.co/wpCqgJ3omz</td>\n",
              "      <td>majeur partie dette public zone euro appartenir banque central européen falloir geler titre dette jamais rembourser empêche investissement besoin</td>\n",
              "    </tr>\n",
              "    <tr>\n",
              "      <th>8</th>\n",
              "      <td>Dans une entreprise, je propose qu'il n'y ait pas d'écart de salaire de plus de 1 à 20. Comme ça quand le patron décide de s'augmenter, comme dans les entreprises du CAC40, il devra aussi augmenter le salarié qu'il paie au lance-pierre.\\n\\n#FaceABaba\\n#AvecMelenchon https://t.co/pIbQaaInup</td>\n",
              "      <td>entreprise propose y écart salair patron décide augmenter entreprise cac augmenter salarié payer lance pierre</td>\n",
              "    </tr>\n",
              "    <tr>\n",
              "      <th>9</th>\n",
              "      <td>Le peuple français est mal en ce moment. Il a tellement changé entre le moment où on a fait la Constitution de 1958 et aujourd'hui. Avec la 6ème République, c'est le peuple lui-même qui va se refonder. #FaceABaba #AvecMelenchon https://t.co/KCANTPeOBh</td>\n",
              "      <td>peuple français mal moment changer moment constitution èm république peuple refonder</td>\n",
              "    </tr>\n",
              "  </tbody>\n",
              "</table>\n",
              "</div>\n",
              "      <button class=\"colab-df-convert\" onclick=\"convertToInteractive('df-51c21188-4174-4910-b384-4da8d8f3384c')\"\n",
              "              title=\"Convert this dataframe to an interactive table.\"\n",
              "              style=\"display:none;\">\n",
              "        \n",
              "  <svg xmlns=\"http://www.w3.org/2000/svg\" height=\"24px\"viewBox=\"0 0 24 24\"\n",
              "       width=\"24px\">\n",
              "    <path d=\"M0 0h24v24H0V0z\" fill=\"none\"/>\n",
              "    <path d=\"M18.56 5.44l.94 2.06.94-2.06 2.06-.94-2.06-.94-.94-2.06-.94 2.06-2.06.94zm-11 1L8.5 8.5l.94-2.06 2.06-.94-2.06-.94L8.5 2.5l-.94 2.06-2.06.94zm10 10l.94 2.06.94-2.06 2.06-.94-2.06-.94-.94-2.06-.94 2.06-2.06.94z\"/><path d=\"M17.41 7.96l-1.37-1.37c-.4-.4-.92-.59-1.43-.59-.52 0-1.04.2-1.43.59L10.3 9.45l-7.72 7.72c-.78.78-.78 2.05 0 2.83L4 21.41c.39.39.9.59 1.41.59.51 0 1.02-.2 1.41-.59l7.78-7.78 2.81-2.81c.8-.78.8-2.07 0-2.86zM5.41 20L4 18.59l7.72-7.72 1.47 1.35L5.41 20z\"/>\n",
              "  </svg>\n",
              "      </button>\n",
              "      \n",
              "  <style>\n",
              "    .colab-df-container {\n",
              "      display:flex;\n",
              "      flex-wrap:wrap;\n",
              "      gap: 12px;\n",
              "    }\n",
              "\n",
              "    .colab-df-convert {\n",
              "      background-color: #E8F0FE;\n",
              "      border: none;\n",
              "      border-radius: 50%;\n",
              "      cursor: pointer;\n",
              "      display: none;\n",
              "      fill: #1967D2;\n",
              "      height: 32px;\n",
              "      padding: 0 0 0 0;\n",
              "      width: 32px;\n",
              "    }\n",
              "\n",
              "    .colab-df-convert:hover {\n",
              "      background-color: #E2EBFA;\n",
              "      box-shadow: 0px 1px 2px rgba(60, 64, 67, 0.3), 0px 1px 3px 1px rgba(60, 64, 67, 0.15);\n",
              "      fill: #174EA6;\n",
              "    }\n",
              "\n",
              "    [theme=dark] .colab-df-convert {\n",
              "      background-color: #3B4455;\n",
              "      fill: #D2E3FC;\n",
              "    }\n",
              "\n",
              "    [theme=dark] .colab-df-convert:hover {\n",
              "      background-color: #434B5C;\n",
              "      box-shadow: 0px 1px 3px 1px rgba(0, 0, 0, 0.15);\n",
              "      filter: drop-shadow(0px 1px 2px rgba(0, 0, 0, 0.3));\n",
              "      fill: #FFFFFF;\n",
              "    }\n",
              "  </style>\n",
              "\n",
              "      <script>\n",
              "        const buttonEl =\n",
              "          document.querySelector('#df-51c21188-4174-4910-b384-4da8d8f3384c button.colab-df-convert');\n",
              "        buttonEl.style.display =\n",
              "          google.colab.kernel.accessAllowed ? 'block' : 'none';\n",
              "\n",
              "        async function convertToInteractive(key) {\n",
              "          const element = document.querySelector('#df-51c21188-4174-4910-b384-4da8d8f3384c');\n",
              "          const dataTable =\n",
              "            await google.colab.kernel.invokeFunction('convertToInteractive',\n",
              "                                                     [key], {});\n",
              "          if (!dataTable) return;\n",
              "\n",
              "          const docLinkHtml = 'Like what you see? Visit the ' +\n",
              "            '<a target=\"_blank\" href=https://colab.research.google.com/notebooks/data_table.ipynb>data table notebook</a>'\n",
              "            + ' to learn more about interactive tables.';\n",
              "          element.innerHTML = '';\n",
              "          dataTable['output_type'] = 'display_data';\n",
              "          await google.colab.output.renderOutput(dataTable, element);\n",
              "          const docLink = document.createElement('div');\n",
              "          docLink.innerHTML = docLinkHtml;\n",
              "          element.appendChild(docLink);\n",
              "        }\n",
              "      </script>\n",
              "    </div>\n",
              "  </div>\n",
              "  "
            ],
            "text/plain": [
              "                                                                                                                                                                                                                                                                                                               text                                                                                                                                                                                 text_preprocess\n",
              "0                                                                                                                                                            Redonner du sens à la gauche : se rassembler avec le Parlement de l'Union Populaire - Tribune de membres du @ParlementPop. \\n\\nhttps://t.co/JzBPeFNSOz                                                                                                                        redonner sens gauche rassembler parlement union populaire tribune membre\n",
              "1        L’inscription sur les listes électorales c’est jusqu’au 4 mars et c’est le moyen de faire \\n✅ la 6e République\\n✅ le SMIC à 1400€ nets\\n✅ la règle verte \\n✅ la retraite à 60 ans\\n✅ une France indépendante au service de la paix\\n\\n➡️ Ça se passe ici : https://t.co/FJUbiFzRFI https://t.co/orrqlIgQ42                                        inscription liste électoral jusqu’ mars moyen ✅ e république ✅ smic euro net ✅ règle vert ✅ retraite an ✅ france indépendant service paix ➡ ️ passer ici\n",
              "2                                                                                                                                                                                                                🔴 Rendez-vous ce dimanche 30 janvier à 20h55 sur France 5 pour #cdanslair. https://t.co/Z7nsNC1rg4                                                                                                                                                                🔴 rendre dimanche janvier france\n",
              "3  3 solutions pour financer la retraite à 60 ans\\n\\n✅ Égalité salariale femmes-hommes\\n✅ Augmenter les cotisations pour les salaires supérieurs à 3400€\\n✅ Augmenter les cotisations patronales avec un fond de péréquation inter-entreprises pour que les grosses payent pour les petites https://t.co/WSCD1xX5Qt  solution financer retraite an ✅ égalité salarial femme homme ✅ augmenter cotisation salaire supérieur euro ✅ augmenter cotisation patronal fond péréquation inter-entrepriser gros payer petit\n",
              "4   La Méditerranée est le plus grand cimetière du monde. Ceux qui émigrent ne partent pas par plaisir. Il faut donc arrêter les accords commerciaux déséquilibrés. Mais quand les gens sont là, il ne faut pas les maltraiter. Il faut les traiter humainement et dignement.\\n\\n#FaceABaba https://t.co/K2VLIbH7dI                               méditerranée grand cimetière monde émigrer partir plaisir falloir arrêter accord commercial déséquilibré falloir maltraiter falloir traiter humainement dignement\n",
              "5                                                                                                                                                                                                                                     Retour d'émission #FaceABaba - Nouvelle note de blog\\nhttps://t.co/ayMGflKdv9                                                                                                                                                                      émission nouveau note blog\n",
              "6                                                Le jour de mes 50 ans, la fille de Raquel et d'autres m'ont offert un drapeau de la France de 7 mètres de long. On a posé cette petite fille sur ce grand drapeau, tous les larmes aux yeux. Vive la République. #FaceABaba #AvecMelenchon https://t.co/kFfgejSWyz                                                                                     jour an fille raquel offrir drapeau france mètre long poser petit fille grand drapeau larme oeil république\n",
              "7     La majeure partie de la dette publique de la zone Euro appartient à la Banque Centrale Européenne. Il faut geler ces titres, parce que cette dette ne sera jamais remboursée et qu'elle nous empêche de faire les investissements dont nous avons besoin.\\n#FaceABaba\\n#AvecMelenchon https://t.co/wpCqgJ3omz                                               majeur partie dette public zone euro appartenir banque central européen falloir geler titre dette jamais rembourser empêche investissement besoin\n",
              "8                Dans une entreprise, je propose qu'il n'y ait pas d'écart de salaire de plus de 1 à 20. Comme ça quand le patron décide de s'augmenter, comme dans les entreprises du CAC40, il devra aussi augmenter le salarié qu'il paie au lance-pierre.\\n\\n#FaceABaba\\n#AvecMelenchon https://t.co/pIbQaaInup                                                                                   entreprise propose y écart salair patron décide augmenter entreprise cac augmenter salarié payer lance pierre\n",
              "9                                                       Le peuple français est mal en ce moment. Il a tellement changé entre le moment où on a fait la Constitution de 1958 et aujourd'hui. Avec la 6ème République, c'est le peuple lui-même qui va se refonder. #FaceABaba #AvecMelenchon https://t.co/KCANTPeOBh                                                                                                            peuple français mal moment changer moment constitution èm république peuple refonder"
            ]
          },
          "metadata": {},
          "execution_count": 96
        }
      ]
    },
    {
      "cell_type": "markdown",
      "metadata": {
        "id": "IDWBIN2KFsjq"
      },
      "source": [
        "> Le preprocess n'est pas encore parfait, on pourrait enlever les verbes avec du pos-tagging ou bien rajouter l'info de pos-tagging après chaque mot. \\\n",
        "> Supprimer les emojis ou les transformer en texte."
      ]
    },
    {
      "cell_type": "markdown",
      "metadata": {
        "id": "B2ksZmsUUvxg"
      },
      "source": [
        "### Tokenisation\n",
        "On tokenise la colonne de tweets prétraités (preprocess)\n",
        "\n",
        "**TODO** : utiliser le module nltk pour tokeniser un tweet avec la fonction tokenisation"
      ]
    },
    {
      "cell_type": "code",
      "metadata": {
        "id": "fN1VVxSwqd2z",
        "colab": {
          "base_uri": "https://localhost:8080/"
        },
        "outputId": "05913a75-534b-43d2-94a0-1fa3804abb56"
      },
      "source": [
        "nltk.download('punkt') # nécessaire pour la tokenisation"
      ],
      "execution_count": null,
      "outputs": [
        {
          "output_type": "stream",
          "name": "stdout",
          "text": [
            "[nltk_data] Downloading package punkt to /root/nltk_data...\n",
            "[nltk_data]   Unzipping tokenizers/punkt.zip.\n"
          ]
        },
        {
          "output_type": "execute_result",
          "data": {
            "text/plain": [
              "True"
            ]
          },
          "metadata": {},
          "execution_count": 97
        }
      ]
    },
    {
      "cell_type": "code",
      "metadata": {
        "id": "Q8hFhNcRyQs7"
      },
      "source": [
        "# Remplir le None dans le code\n",
        "from nltk.tokenize import word_tokenize\n",
        "\n",
        "def tokenisation(tweet):\n",
        "  tweet_tokenized = word_tokenize(tweet)\n",
        "  return(tweet_tokenized)"
      ],
      "execution_count": null,
      "outputs": []
    },
    {
      "cell_type": "code",
      "metadata": {
        "id": "AJYs9NjVs7G9"
      },
      "source": [
        "df_tweets[\"tokens\"] = df_tweets[\"text_preprocess\"].apply(lambda tweet : tokenisation(tweet))"
      ],
      "execution_count": null,
      "outputs": []
    },
    {
      "cell_type": "code",
      "metadata": {
        "id": "r8_14mLZtL2Q",
        "colab": {
          "base_uri": "https://localhost:8080/",
          "height": 302
        },
        "outputId": "1b00046d-7803-4c4a-820b-2b1ba1671655"
      },
      "source": [
        "df_tweets[[\"text_preprocess\", \"tokens\"]].head()"
      ],
      "execution_count": null,
      "outputs": [
        {
          "output_type": "execute_result",
          "data": {
            "text/html": [
              "\n",
              "  <div id=\"df-2fa3e501-38e2-4ad8-8530-66a214d43712\">\n",
              "    <div class=\"colab-df-container\">\n",
              "      <div>\n",
              "<style scoped>\n",
              "    .dataframe tbody tr th:only-of-type {\n",
              "        vertical-align: middle;\n",
              "    }\n",
              "\n",
              "    .dataframe tbody tr th {\n",
              "        vertical-align: top;\n",
              "    }\n",
              "\n",
              "    .dataframe thead th {\n",
              "        text-align: right;\n",
              "    }\n",
              "</style>\n",
              "<table border=\"1\" class=\"dataframe\">\n",
              "  <thead>\n",
              "    <tr style=\"text-align: right;\">\n",
              "      <th></th>\n",
              "      <th>text_preprocess</th>\n",
              "      <th>tokens</th>\n",
              "    </tr>\n",
              "  </thead>\n",
              "  <tbody>\n",
              "    <tr>\n",
              "      <th>0</th>\n",
              "      <td>redonner sens gauche rassembler parlement union populaire tribune membre</td>\n",
              "      <td>[redonner, sens, gauche, rassembler, parlement, union, populaire, tribune, membre]</td>\n",
              "    </tr>\n",
              "    <tr>\n",
              "      <th>1</th>\n",
              "      <td>inscription liste électoral jusqu’ mars moyen ✅ e république ✅ smic euro net ✅ règle vert ✅ retraite an ✅ france indépendant service paix ➡ ️ passer ici</td>\n",
              "      <td>[inscription, liste, électoral, jusqu, ’, mars, moyen, ✅, e, république, ✅, smic, euro, net, ✅, règle, vert, ✅, retraite, an, ✅, france, indépendant, service, paix, ➡, ️, passer, ici]</td>\n",
              "    </tr>\n",
              "    <tr>\n",
              "      <th>2</th>\n",
              "      <td>🔴 rendre dimanche janvier france</td>\n",
              "      <td>[🔴, rendre, dimanche, janvier, france]</td>\n",
              "    </tr>\n",
              "    <tr>\n",
              "      <th>3</th>\n",
              "      <td>solution financer retraite an ✅ égalité salarial femme homme ✅ augmenter cotisation salaire supérieur euro ✅ augmenter cotisation patronal fond péréquation inter-entrepriser gros payer petit</td>\n",
              "      <td>[solution, financer, retraite, an, ✅, égalité, salarial, femme, homme, ✅, augmenter, cotisation, salaire, supérieur, euro, ✅, augmenter, cotisation, patronal, fond, péréquation, inter-entrepriser, gros, payer, petit]</td>\n",
              "    </tr>\n",
              "    <tr>\n",
              "      <th>4</th>\n",
              "      <td>méditerranée grand cimetière monde émigrer partir plaisir falloir arrêter accord commercial déséquilibré falloir maltraiter falloir traiter humainement dignement</td>\n",
              "      <td>[méditerranée, grand, cimetière, monde, émigrer, partir, plaisir, falloir, arrêter, accord, commercial, déséquilibré, falloir, maltraiter, falloir, traiter, humainement, dignement]</td>\n",
              "    </tr>\n",
              "  </tbody>\n",
              "</table>\n",
              "</div>\n",
              "      <button class=\"colab-df-convert\" onclick=\"convertToInteractive('df-2fa3e501-38e2-4ad8-8530-66a214d43712')\"\n",
              "              title=\"Convert this dataframe to an interactive table.\"\n",
              "              style=\"display:none;\">\n",
              "        \n",
              "  <svg xmlns=\"http://www.w3.org/2000/svg\" height=\"24px\"viewBox=\"0 0 24 24\"\n",
              "       width=\"24px\">\n",
              "    <path d=\"M0 0h24v24H0V0z\" fill=\"none\"/>\n",
              "    <path d=\"M18.56 5.44l.94 2.06.94-2.06 2.06-.94-2.06-.94-.94-2.06-.94 2.06-2.06.94zm-11 1L8.5 8.5l.94-2.06 2.06-.94-2.06-.94L8.5 2.5l-.94 2.06-2.06.94zm10 10l.94 2.06.94-2.06 2.06-.94-2.06-.94-.94-2.06-.94 2.06-2.06.94z\"/><path d=\"M17.41 7.96l-1.37-1.37c-.4-.4-.92-.59-1.43-.59-.52 0-1.04.2-1.43.59L10.3 9.45l-7.72 7.72c-.78.78-.78 2.05 0 2.83L4 21.41c.39.39.9.59 1.41.59.51 0 1.02-.2 1.41-.59l7.78-7.78 2.81-2.81c.8-.78.8-2.07 0-2.86zM5.41 20L4 18.59l7.72-7.72 1.47 1.35L5.41 20z\"/>\n",
              "  </svg>\n",
              "      </button>\n",
              "      \n",
              "  <style>\n",
              "    .colab-df-container {\n",
              "      display:flex;\n",
              "      flex-wrap:wrap;\n",
              "      gap: 12px;\n",
              "    }\n",
              "\n",
              "    .colab-df-convert {\n",
              "      background-color: #E8F0FE;\n",
              "      border: none;\n",
              "      border-radius: 50%;\n",
              "      cursor: pointer;\n",
              "      display: none;\n",
              "      fill: #1967D2;\n",
              "      height: 32px;\n",
              "      padding: 0 0 0 0;\n",
              "      width: 32px;\n",
              "    }\n",
              "\n",
              "    .colab-df-convert:hover {\n",
              "      background-color: #E2EBFA;\n",
              "      box-shadow: 0px 1px 2px rgba(60, 64, 67, 0.3), 0px 1px 3px 1px rgba(60, 64, 67, 0.15);\n",
              "      fill: #174EA6;\n",
              "    }\n",
              "\n",
              "    [theme=dark] .colab-df-convert {\n",
              "      background-color: #3B4455;\n",
              "      fill: #D2E3FC;\n",
              "    }\n",
              "\n",
              "    [theme=dark] .colab-df-convert:hover {\n",
              "      background-color: #434B5C;\n",
              "      box-shadow: 0px 1px 3px 1px rgba(0, 0, 0, 0.15);\n",
              "      filter: drop-shadow(0px 1px 2px rgba(0, 0, 0, 0.3));\n",
              "      fill: #FFFFFF;\n",
              "    }\n",
              "  </style>\n",
              "\n",
              "      <script>\n",
              "        const buttonEl =\n",
              "          document.querySelector('#df-2fa3e501-38e2-4ad8-8530-66a214d43712 button.colab-df-convert');\n",
              "        buttonEl.style.display =\n",
              "          google.colab.kernel.accessAllowed ? 'block' : 'none';\n",
              "\n",
              "        async function convertToInteractive(key) {\n",
              "          const element = document.querySelector('#df-2fa3e501-38e2-4ad8-8530-66a214d43712');\n",
              "          const dataTable =\n",
              "            await google.colab.kernel.invokeFunction('convertToInteractive',\n",
              "                                                     [key], {});\n",
              "          if (!dataTable) return;\n",
              "\n",
              "          const docLinkHtml = 'Like what you see? Visit the ' +\n",
              "            '<a target=\"_blank\" href=https://colab.research.google.com/notebooks/data_table.ipynb>data table notebook</a>'\n",
              "            + ' to learn more about interactive tables.';\n",
              "          element.innerHTML = '';\n",
              "          dataTable['output_type'] = 'display_data';\n",
              "          await google.colab.output.renderOutput(dataTable, element);\n",
              "          const docLink = document.createElement('div');\n",
              "          docLink.innerHTML = docLinkHtml;\n",
              "          element.appendChild(docLink);\n",
              "        }\n",
              "      </script>\n",
              "    </div>\n",
              "  </div>\n",
              "  "
            ],
            "text/plain": [
              "                                                                                                                                                                                  text_preprocess                                                                                                                                                                                                                    tokens\n",
              "0                                                                                                                        redonner sens gauche rassembler parlement union populaire tribune membre                                                                                                                                        [redonner, sens, gauche, rassembler, parlement, union, populaire, tribune, membre]\n",
              "1                                        inscription liste électoral jusqu’ mars moyen ✅ e république ✅ smic euro net ✅ règle vert ✅ retraite an ✅ france indépendant service paix ➡ ️ passer ici                                   [inscription, liste, électoral, jusqu, ’, mars, moyen, ✅, e, république, ✅, smic, euro, net, ✅, règle, vert, ✅, retraite, an, ✅, france, indépendant, service, paix, ➡, ️, passer, ici]\n",
              "2                                                                                                                                                                🔴 rendre dimanche janvier france                                                                                                                                                                                    [🔴, rendre, dimanche, janvier, france]\n",
              "3  solution financer retraite an ✅ égalité salarial femme homme ✅ augmenter cotisation salaire supérieur euro ✅ augmenter cotisation patronal fond péréquation inter-entrepriser gros payer petit  [solution, financer, retraite, an, ✅, égalité, salarial, femme, homme, ✅, augmenter, cotisation, salaire, supérieur, euro, ✅, augmenter, cotisation, patronal, fond, péréquation, inter-entrepriser, gros, payer, petit]\n",
              "4                               méditerranée grand cimetière monde émigrer partir plaisir falloir arrêter accord commercial déséquilibré falloir maltraiter falloir traiter humainement dignement                                      [méditerranée, grand, cimetière, monde, émigrer, partir, plaisir, falloir, arrêter, accord, commercial, déséquilibré, falloir, maltraiter, falloir, traiter, humainement, dignement]"
            ]
          },
          "metadata": {},
          "execution_count": 103
        }
      ]
    },
    {
      "cell_type": "markdown",
      "metadata": {
        "id": "c9Ej6e6-08cE"
      },
      "source": [
        "### Analyse du preprocess\n",
        "\n",
        "On regarde un peu les résultats du preprocessing : \n",
        "- combien y a-t-il de mots distincts pour chacun des deux hommes politiques ? \n",
        "- Quels sont les mots les plus utilisés par deux candidats de votre choix ? \n",
        "\n",
        "Pour cela vous vous aiderez des deux fonctions données ci-dessous"
      ]
    },
    {
      "cell_type": "code",
      "metadata": {
        "id": "O4N6HGJWOHcW"
      },
      "source": [
        "def create_big_tweet_by_userid(userid, col_text) : \n",
        "\n",
        "  ''' Fonction pour mettre tous les tweets de chaque politiciens dans un même text (string) '''\n",
        "  one_big_tweet = \" \".join(df_tweets.loc[df_tweets[\"user_id\"] == userid, col_text])\n",
        "  \n",
        "  return one_big_tweet\n",
        "  "
      ],
      "execution_count": null,
      "outputs": []
    },
    {
      "cell_type": "code",
      "metadata": {
        "id": "711wc14pWEnN"
      },
      "source": [
        "def get_n_most_common_words(list_words, n) :\n",
        "\n",
        "  ''' Fonction permettant de donner les n mots les plus fréquents d'une liste de mots '''\n",
        "  freq_words = nltk.FreqDist(list_words)\n",
        "  print(freq_words.most_common(n))\n"
      ],
      "execution_count": null,
      "outputs": []
    },
    {
      "cell_type": "markdown",
      "metadata": {
        "id": "5UlRdmV2XAdH"
      },
      "source": [
        "**TODO** : Si on n'utilise pas de preprocessing, quels sont les mots les plus utilisés par les 2 politiciens ?"
      ]
    },
    {
      "cell_type": "code",
      "metadata": {
        "id": "CY-y0Vy5VwAi",
        "colab": {
          "base_uri": "https://localhost:8080/"
        },
        "outputId": "b291a059-f755-4202-8b56-bd8342a5b600"
      },
      "source": [
        "# Créer un gros tweet pour chacun des deux politiques (qui est la jointure de l'ensemble de ses tweets)\n",
        "big_tweet_candidate1 = create_big_tweet_by_userid('Emmanuel_Macron','text')\n",
        "big_tweet_candidate2 = create_big_tweet_by_userid('Eric_Zemmour','text')\n",
        "\n",
        "# Tokeniser le gros tweet de chacun des politiques\n",
        "tokens_candidate1 = tokenisation(big_tweet_candidate1)\n",
        "tokens_candidate2 = tokenisation(big_tweet_candidate2)\n",
        "\n",
        "# Regarder les 10 mots les plus communs pour chacun des politiques\n",
        "get_n_most_common_words(tokens_candidate1, 10)\n",
        "get_n_most_common_words(tokens_candidate2, 10)"
      ],
      "execution_count": null,
      "outputs": [
        {
          "output_type": "stream",
          "name": "stdout",
          "text": [
            "[('.', 999), (',', 963), ('de', 668), ('’', 502), ('la', 445), (':', 427), ('et', 310), ('https', 298), ('les', 248), ('à', 233)]\n",
            "[('.', 2699), (',', 2483), ('de', 2170), ('’', 2046), (':', 1919), ('#', 1740), ('la', 1422), ('https', 1418), ('les', 1000), ('et', 922)]\n"
          ]
        }
      ]
    },
    {
      "cell_type": "markdown",
      "metadata": {
        "id": "wnoa-PD0Wt-f"
      },
      "source": [
        "**Réponse** : "
      ]
    },
    {
      "cell_type": "markdown",
      "metadata": {
        "id": "GLwisYcq12sG"
      },
      "source": [
        "Sans preprocessing, combien y a-t-il de mots distincts pour chaque politique ?"
      ]
    },
    {
      "cell_type": "code",
      "metadata": {
        "id": "RSof4c_fX5pm",
        "colab": {
          "base_uri": "https://localhost:8080/"
        },
        "outputId": "6c1e03b4-ec27-46b7-e0be-729d7eed7549"
      },
      "source": [
        "# la fonction set appliquée sur une liste donne une liste d'éléments uniques\n",
        "print(\"Nombre de mots distincts dans les tweets du candidat 1 : {}\".format(len(set(tokens_candidate1))))\n",
        "print(\"Nombre de mots distincts dans les tweets du candidat 2 : {}\".format(len(set(tokens_candidate2))))"
      ],
      "execution_count": null,
      "outputs": [
        {
          "output_type": "stream",
          "name": "stdout",
          "text": [
            "Nombre de mots distincts dans les tweets du candidat 1 : 4394\n",
            "Nombre de mots distincts dans les tweets du candidat 2 : 8960\n"
          ]
        }
      ]
    },
    {
      "cell_type": "markdown",
      "metadata": {
        "id": "63-7MDKW2dVj"
      },
      "source": [
        "**Réponse** : \n",
        "\n",
        "Jean Luc Mélenchon : 11877 \\\n",
        "Eric Zemmour : 8960 \\\n",
        "Marine Lepen : 8108 \\\n",
        "Emmanuel Macron : 4394"
      ]
    },
    {
      "cell_type": "markdown",
      "metadata": {
        "id": "4DIHPg2YXLy-"
      },
      "source": [
        "**TODO** : même question avec un preprocessing ?\n"
      ]
    },
    {
      "cell_type": "code",
      "metadata": {
        "id": "TNzWJEz36JMI",
        "colab": {
          "base_uri": "https://localhost:8080/"
        },
        "outputId": "dc47a60d-6389-4200-815f-5e0b8f5d184a"
      },
      "source": [
        "# Créer un gros tweet pour chacun des deux politiques (qui est la jointure de l'ensemble de ses tweets)\n",
        "big_tweet_candidate1 = create_big_tweet_by_userid('JeanLuc_Melenchon','text_preprocess')\n",
        "big_tweet_candidate2 = create_big_tweet_by_userid('Eric_Zemmour','text_preprocess')\n",
        "\n",
        "# Tokeniser le gros tweet de chacun des politiques\n",
        "tokens_candidate1 = tokenisation(big_tweet_candidate1)\n",
        "tokens_candidate2 = tokenisation(big_tweet_candidate2)\n",
        "\n",
        "# Regarder les 10 mots les plus communs pour chacun des politiques\n",
        "get_n_most_common_words(tokens_candidate1, 10)\n",
        "get_n_most_common_words(tokens_candidate2, 10)"
      ],
      "execution_count": null,
      "outputs": [
        {
          "output_type": "stream",
          "name": "stdout",
          "text": [
            "[('falloir', 573), ('y', 465), ('france', 324), ('vouloir', 254), ('être', 236), ('pays', 211), ('programme', 200), ('monde', 195), ('français', 188), ('mettre', 184)]\n",
            "[('france', 425), ('français', 414), ('vouloir', 248), ('y', 153), ('être', 142), ('politique', 114), ('falloir', 112), ('macron', 110), ('grand', 109), ('pays', 84)]\n"
          ]
        }
      ]
    },
    {
      "cell_type": "code",
      "metadata": {
        "id": "vP0H0WW22G1K",
        "colab": {
          "base_uri": "https://localhost:8080/"
        },
        "outputId": "c936803f-188a-4480-99ec-cdbab2e663ae"
      },
      "source": [
        "print(\"Nombre de mots distincts dans les tweets du candidat 1 : {}\".format(len(set(tokens_candidate1))))\n",
        "print(\"Nombre de mots distincts dans les tweets du candidat 2 : {}\".format(len(set(tokens_candidate2))))"
      ],
      "execution_count": null,
      "outputs": [
        {
          "output_type": "stream",
          "name": "stdout",
          "text": [
            "Nombre de mots distincts dans les tweets du candidat 1 : 5368\n",
            "Nombre de mots distincts dans les tweets du candidat 2 : 4628\n"
          ]
        }
      ]
    },
    {
      "cell_type": "markdown",
      "metadata": {
        "id": "JGzpTmsM8yAE"
      },
      "source": [
        "**Réponse** : \n",
        "\n",
        "Jean Luc Mélenchon : 5369 \\\n",
        "Eric Zemmour : 4628"
      ]
    },
    {
      "cell_type": "markdown",
      "metadata": {
        "id": "tF4dqxlPnXcy"
      },
      "source": [
        "### Nuage de mots\n",
        "\n",
        "On trace un nuage de mots pour chacun des politiques pour voir ce qui ressort"
      ]
    },
    {
      "cell_type": "markdown",
      "metadata": {
        "id": "jAVwmN5IvBbD"
      },
      "source": [
        "**#TODO** : Faire un nuage de mots pour deux candidats de votre choix avec 30 mots"
      ]
    },
    {
      "cell_type": "markdown",
      "metadata": {
        "id": "1usW-d1wvLbl"
      },
      "source": [
        "<details>    \n",
        "<summary>\n",
        "    <font size=\"3\" color=\"darkgreen\"><b>Aide</b></font>\n",
        "</summary>\n",
        "<p>\n",
        "<ul>\n",
        "    <li> transformer l'ensemble des tweets d'un politique en un texte unique </li>\n",
        "    <li> vous pouvez utiliser la fonction WordCloud </li>\n",
        "</ul>\n",
        "</p>"
      ]
    },
    {
      "cell_type": "code",
      "metadata": {
        "colab": {
          "base_uri": "https://localhost:8080/",
          "height": 235
        },
        "id": "C12i7alUnWa_",
        "outputId": "bb30ed6a-2098-49f7-c33b-c2a1513104eb"
      },
      "source": [
        "# Faire un texte unique pour les tweets de JLM \n",
        "#TODO\n",
        "print(\"Wordcloud des mots lemmatisés de l'ensemble de Jean-Luc Mélenchon\")\n",
        "#Faire le wordcloud \n",
        "\n",
        "def create_wordcloud(text, nb_words):\n",
        "  wordcloud = WordCloud(max_words=nb_words, background_color=\"white\").generate(text)\n",
        "  plt.figure()\n",
        "  plt.imshow(wordcloud, interpolation=\"bilinear\")\n",
        "  plt.axis(\"off\")\n",
        "  plt.show()\n",
        "lemat_candidat1 = \" \".join(df_tweets.loc[df_tweets.user_id==\"JeanLuc_Melenchon\", \"text_preprocess\"])\n",
        "print(\"Wordcloud des mots lemmatisés de l'ensemble des tweets de Jean-Luc Mélenchon\")\n",
        "create_wordcloud(lemat_candidat1, 30)"
      ],
      "execution_count": null,
      "outputs": [
        {
          "output_type": "stream",
          "name": "stdout",
          "text": [
            "Wordcloud des mots lemmatisés de l'ensemble des tweets du candidat 1\n",
            "Wordcloud des mots lemmatisés de l'ensemble des tweets de Jean-Luc Mélenchon\n"
          ]
        },
        {
          "output_type": "display_data",
          "data": {
            "image/png": "[encoded data removed]",
            "text/plain": [
              "<Figure size 432x288 with 1 Axes>"
            ]
          },
          "metadata": {
            "needs_background": "light"
          }
        }
      ]
    },
    {
      "cell_type": "code",
      "metadata": {
        "colab": {
          "base_uri": "https://localhost:8080/",
          "height": 235
        },
        "id": "aogPxGLjoYG1",
        "outputId": "64143c3f-5062-4679-83f5-178e2e8100e1"
      },
      "source": [
        "# Faire un texte unique pour les tweets de JLM \n",
        "#TODO\n",
        "print(\"Wordcloud des mots lemmatisés de l'ensemble des tweets de Eric Zemmour\")\n",
        "#Faire le wordcloud \n",
        "#TODO\n",
        "\n",
        "def create_wordcloud(text, nb_words):\n",
        "  wordcloud = WordCloud(max_words=nb_words, background_color=\"white\").generate(text)\n",
        "  plt.figure()\n",
        "  plt.imshow(wordcloud, interpolation=\"bilinear\")\n",
        "  plt.axis(\"off\")\n",
        "  plt.show()\n",
        "lemat_candidat1 = \" \".join(df_tweets.loc[df_tweets.user_id==\"Eric_Zemmour\", \"text_preprocess\"])\n",
        "print(\"Wordcloud des mots lemmatisés de l'ensemble des tweets de Eric Zemmour\")\n",
        "create_wordcloud(lemat_candidat1, 30)"
      ],
      "execution_count": null,
      "outputs": [
        {
          "output_type": "stream",
          "name": "stdout",
          "text": [
            "Wordcloud des mots lemmatisés de l'ensemble des tweets du candidat 2\n",
            "Wordcloud des mots lemmatisés de l'ensemble des tweets de Eric Zemmour\n"
          ]
        },
        {
          "output_type": "display_data",
          "data": {
            "image/png": "[encoded data removed]",
            "text/plain": [
              "<Figure size 432x288 with 1 Axes>"
            ]
          },
          "metadata": {
            "needs_background": "light"
          }
        }
      ]
    },
    {
      "cell_type": "markdown",
      "metadata": {
        "id": "GuxgMTF3Oo4T"
      },
      "source": [
        "C'est bien beau, mais c'est difficile à analyser, et surtout à comparer... \\\n",
        "On va utiliser scattertext pour comparer réellement le vocabulaire des 2 politiques."
      ]
    },
    {
      "cell_type": "markdown",
      "metadata": {
        "id": "wIIsh5K3iSnx"
      },
      "source": [
        "## **4. Scattertext**\n",
        "\n",
        "Grâce à Scattertext, on va pouvoir comparer de manière visuelle la distinction de vocabulaire utilisé par deux candidats de votre choix. \n"
      ]
    },
    {
      "cell_type": "markdown",
      "metadata": {
        "id": "0TE5QCkLHvDb"
      },
      "source": [
        "On doit d'abord construire un corpus avec nos données : \n",
        "- donner la variable de catégorie \n",
        "- donner la variable du texte\n",
        "\n",
        "On peut rajouter le partie ```.compact(st.AssociationCompactor(4000))``` pour ne prendre en compte que les 4000 mots les plus importants dans le scattertext.\n",
        "\n",
        "**TODO** : créer le corpus avec la fonction donnée ci-dessous"
      ]
    },
    {
      "cell_type": "code",
      "metadata": {
        "id": "6CPhJNikb6Wp"
      },
      "source": [
        "df_sample = df_tweets.loc[df_tweets.user_id.isin([\"Eric_Zemmour\",\"JeanLuc_Melenchon\"])]\n",
        "\n",
        "# on crée un objet corpus pour scattertext\n",
        "corpus = st.CorpusFromPandas(data_frame = df_sample,\n",
        "                             category_col = 'user_id', \n",
        "                             text_col = 'text_preprocess', \n",
        "                             nlp = nlp).build().compact(st.AssociationCompactor(4000))"
      ],
      "execution_count": null,
      "outputs": []
    },
    {
      "cell_type": "markdown",
      "metadata": {
        "id": "LkUrf23zwB5_"
      },
      "source": [
        "<details>    \n",
        "<summary>\n",
        "    <font size=\"3\" color=\"darkgreen\"><b>Aide</b></font>\n",
        "</summary>\n",
        "<p>\n",
        "<ul>\n",
        "    <li> Filtrer en gardant les tweets des deux candidats de votre choix </li>\n",
        "</ul>\n",
        "</p>"
      ]
    },
    {
      "cell_type": "markdown",
      "metadata": {
        "id": "QpCPtMrId1zV"
      },
      "source": [
        "Une fois le corpus créé, on peut créer le html avec le scattertext. \n",
        "\n",
        "On utilise la fonction ```st.produce_scattertext_explorer``` en donnant les paramètres vus pendant le cours : \n",
        "- term_ranker\n",
        "- term_scorer\n",
        "- transform \n",
        "\n",
        "**TODO** : remplir la fonction en réfléchissant aux paramètres que vous voulez tester."
      ]
    },
    {
      "cell_type": "code",
      "metadata": {
        "colab": {
          "base_uri": "https://localhost:8080/"
        },
        "id": "-RWsqgPatg5v",
        "outputId": "6936ea31-f25f-4c83-ce65-65e8557fec70"
      },
      "source": [
        "# On crée le html du scattertext\n",
        "html = st.produce_scattertext_explorer(  corpus\n",
        "                                       , category                  = 'Eric_Zemmour'\n",
        "                                       , category_name             = 'Eric_Zemmour'\n",
        "                                       , not_category_name         = 'JeanLuc_Melenchon'\n",
        "                                       , minimum_term_frequency    = 5\n",
        "                                       , pmi_threshold_coefficient = 1\n",
        "                                       , term_ranker               = st.AbsoluteFrequencyRanker\n",
        "                                       , term_scorer               = st.RankDifference()\n",
        "                                       , transform                 =  st.Scalers.dense_rank\n",
        "                                       , width_in_pixels           = 1000\n",
        "                                       )\n",
        "\n",
        "# On enregistre le html\n",
        "open(\"tweets_visualisation.html\", 'wb').write(html.encode('utf-8'))"
      ],
      "execution_count": null,
      "outputs": [
        {
          "output_type": "execute_result",
          "data": {
            "text/plain": [
              "1308696"
            ]
          },
          "metadata": {},
          "execution_count": 130
        }
      ]
    },
    {
      "cell_type": "markdown",
      "metadata": {
        "id": "FqieNcsrJ7DH"
      },
      "source": [
        "**TODO** : regarder le résultat (il apparaitra normalement dans le dossier content du notebook) en téléchargeant le html (cela peut prendre un petit moment avant de s'afficher correctement).\n",
        "\n",
        "**Question** : Analysez le graphique"
      ]
    },
    {
      "cell_type": "markdown",
      "metadata": {
        "id": "2KA3He08v2in"
      },
      "source": [
        "## **5. Modélisation**\n",
        "\n",
        "On souhaite prédire si un tweet provient du compte de Marine Le Pen, de Jean Luc Mélenchon, d'Eric Zemmour ou d'Emmanuel Macron. Pour cela, on a besoin de : \n",
        "- Créer un échantillon train / dev\n",
        "- préparer le text (préprocessing)\n",
        "- créer des features (plusieurs méthodes : bag of words, counts of words, etc.)\n",
        "- réaliser l'algorithme\n",
        "- évaluer la performance du modèle "
      ]
    },
    {
      "cell_type": "markdown",
      "metadata": {
        "id": "54J4-pgJqsEa"
      },
      "source": [
        "### Création des échantillons \n",
        "\n",
        "**TODO** : créer un échantillon train (70% du jeu de données total) et un échantillon test "
      ]
    },
    {
      "cell_type": "markdown",
      "metadata": {
        "id": "8YO7cfe6QT9f"
      },
      "source": [
        "<details>    \n",
        "<summary>\n",
        "    <font size=\"3\" color=\"darkgreen\"><b>Aide</b></font>\n",
        "</summary>\n",
        "<p>\n",
        "<ul>\n",
        "  <li> Utilisez la fonction <a href=\"https://scikit-learn.org/stable/modules/generated/sklearn.model_selection.train_test_split.html\" >train_test_split</a></li>\n",
        "  <li> Vous pouvez prendre tout le df_tweet dans le X</li>\n",
        "  <li> N'oubliez pas de rajouter un random_seed pour avoir des résultats reproductibles</li>\n",
        "</p> "
      ]
    },
    {
      "cell_type": "code",
      "metadata": {
        "id": "FCnSMLCMqrX7"
      },
      "source": [
        "df_train, df_test, y_train, y_test = train_test_split(df_tweets, df_tweets['user_id'], test_size=0.30, random_state=42)"
      ],
      "execution_count": null,
      "outputs": []
    },
    {
      "cell_type": "code",
      "source": [
        "print(f\"Nombre de tweets dans l'échantillon train : {len(df_train)}\")\n",
        "print(f\"Nombre de tweets dans l'échantillon test : {len(df_test)}\")"
      ],
      "metadata": {
        "id": "G3cTibPARhp5",
        "colab": {
          "base_uri": "https://localhost:8080/"
        },
        "outputId": "77a60207-265f-43e9-cfeb-890ea95094c1"
      },
      "execution_count": null,
      "outputs": [
        {
          "output_type": "stream",
          "name": "stdout",
          "text": [
            "Nombre de tweets dans l'échantillon train : 3609\n",
            "Nombre de tweets dans l'échantillon test : 1547\n"
          ]
        }
      ]
    },
    {
      "cell_type": "markdown",
      "source": [
        "**Réponse** : \n",
        "\n",
        "Nombre de tweets dans l'échantillon train : 4449 \\\n",
        "Nombre de tweets dans l'échantillon test : 1907"
      ],
      "metadata": {
        "id": "bWusYW-sRiqz"
      }
    },
    {
      "cell_type": "markdown",
      "metadata": {
        "id": "xhTsIINSumdB"
      },
      "source": [
        "### Modèle de régression multinomiale sans gridsearch \n",
        "\n",
        "- Transformer le texte de df_train et df_test en vecteurs pour le modèle\n",
        "- Utiliser la régression logistique multinomiale sans paramètre\n",
        "- Regarder les paramètres sélectionnés\n",
        "- Regarder le score sur l'échantillon test\n",
        "\n",
        "**#TODO** : transformer df_train pour que ce ne soit plus des tweets, mais des vecteurs grâce à <a href=\"https://scikit-learn.org/stable/modules/generated/sklearn.feature_extraction.text.TfidfVectorizer.html\" >TfidfVectorizer</a> "
      ]
    },
    {
      "cell_type": "markdown",
      "source": [
        "<details>    \n",
        "<summary>\n",
        "    <font size=\"3\" color=\"darkgreen\"><b>Aide</b></font>\n",
        "</summary>\n",
        "<p>\n",
        "\n",
        "La fonction TfidfVectorizer a des paramètres que vous pouvez choisir : \n",
        "<ul>\n",
        "\n",
        "- Combien de n-grams : vous considérez mot par mot ou bien également des groupes de 2 mots\n",
        "- max_df : si vous voulez enlever un pourcentage de mots les plus fréquents\n",
        "- min_df : si vous voulez enlever un pourcentage de mots les moins fréquents\n",
        "</p> "
      ],
      "metadata": {
        "id": "LmtC2j6qTIGP"
      }
    },
    {
      "cell_type": "code",
      "metadata": {
        "id": "xwDLrodDuni9",
        "colab": {
          "base_uri": "https://localhost:8080/"
        },
        "outputId": "3092f10d-45c7-4b98-b325-228512313fd4"
      },
      "source": [
        "vectorizer = TfidfVectorizer(max_df=0.9, min_df=5, ngram_range=(1,2))\n",
        "X_tidf = vectorizer.fit_transform(df_train['text_preprocess'])\n",
        "vectorizer.get_feature_names_out()\n",
        "\n",
        "print(X_tidf.shape)"
      ],
      "execution_count": null,
      "outputs": [
        {
          "output_type": "stream",
          "name": "stdout",
          "text": [
            "(3609, 2030)\n"
          ]
        }
      ]
    },
    {
      "cell_type": "code",
      "source": [
        "len(vectorizer.vocabulary_)"
      ],
      "metadata": {
        "colab": {
          "base_uri": "https://localhost:8080/"
        },
        "id": "SBBKIDKsY8ZD",
        "outputId": "fc8fac84-641a-4ee8-b0b3-cbc55962ba94"
      },
      "execution_count": null,
      "outputs": [
        {
          "output_type": "execute_result",
          "data": {
            "text/plain": [
              "2030"
            ]
          },
          "metadata": {},
          "execution_count": 149
        }
      ]
    },
    {
      "cell_type": "markdown",
      "metadata": {
        "id": "n7VV9vWNuq_9"
      },
      "source": [
        "**#TODO** : créer le modèle de régression logistique (OVR) et entrainer le modèle sur les données d'apprentissage"
      ]
    },
    {
      "cell_type": "code",
      "metadata": {
        "id": "Px7lwclyurWP"
      },
      "source": [
        "# initialiser le modèle \n",
        "model = LogisticRegression(multi_class='ovr', random_state = 42)\n",
        "\n",
        "# entrainer le modèle avec les données d'apprentissage\n",
        "model_default_fit = model.fit(X_tidf, y_train)"
      ],
      "execution_count": null,
      "outputs": []
    },
    {
      "cell_type": "code",
      "metadata": {
        "id": "lXcPasObu_3X",
        "colab": {
          "base_uri": "https://localhost:8080/"
        },
        "outputId": "59501390-1fda-44b0-a060-7bb2e8a0de2f"
      },
      "source": [
        "# vous pouvez voir les paramètres du modèle \n",
        "model_default_fit.get_params(deep=True)"
      ],
      "execution_count": null,
      "outputs": [
        {
          "output_type": "execute_result",
          "data": {
            "text/plain": [
              "{'C': 1.0,\n",
              " 'class_weight': None,\n",
              " 'dual': False,\n",
              " 'fit_intercept': True,\n",
              " 'intercept_scaling': 1,\n",
              " 'l1_ratio': None,\n",
              " 'max_iter': 100,\n",
              " 'multi_class': 'ovr',\n",
              " 'n_jobs': None,\n",
              " 'penalty': 'l2',\n",
              " 'random_state': 42,\n",
              " 'solver': 'lbfgs',\n",
              " 'tol': 0.0001,\n",
              " 'verbose': 0,\n",
              " 'warm_start': False}"
            ]
          },
          "metadata": {},
          "execution_count": 151
        }
      ]
    },
    {
      "cell_type": "markdown",
      "metadata": {
        "id": "ufIHpn-0vN4F"
      },
      "source": [
        "**#TODO** : Regarder la performance du modèle sur l'échantillon train et test (accuracy)"
      ]
    },
    {
      "cell_type": "code",
      "source": [
        "model_default_fit.score(X_tidf, y_train)"
      ],
      "metadata": {
        "colab": {
          "base_uri": "https://localhost:8080/"
        },
        "id": "9Rr8RfgHbXHG",
        "outputId": "66f7cef8-c1f4-46bb-c306-510e83386f19"
      },
      "execution_count": null,
      "outputs": [
        {
          "output_type": "execute_result",
          "data": {
            "text/plain": [
              "0.8658908284843447"
            ]
          },
          "metadata": {},
          "execution_count": 157
        }
      ]
    },
    {
      "cell_type": "markdown",
      "metadata": {
        "id": "nT0QdtanvcF1"
      },
      "source": [
        "<details>    \n",
        "<summary>\n",
        "    <font size=\"3\"**texte en gras** color=\"darkgreen\"><b>Aide</b></font>\n",
        "</summary>\n",
        "<p>\n",
        "<ul>\n",
        "  <li> N'oubliez pas de transformer le texte de l'échantillon test en vecteur en amont</li>\n",
        "  <li> Vous pouvez utiliser la fonction <a href=\"https://scikit-learn.org/stable/modules/generated/sklearn.linear_model.LogisticRegression.html\">score</a>  du modèle</li>\n",
        "  \n",
        "</p> "
      ]
    },
    {
      "cell_type": "code",
      "metadata": {
        "id": "IlJ3l5nzvXyL",
        "colab": {
          "base_uri": "https://localhost:8080/"
        },
        "outputId": "e7d4bb21-faf2-460c-ce32-b135720f952c"
      },
      "source": [
        "#TODO\n",
        "X_test = vectorizer.transform(df_test['text_preprocess'])\n",
        "model_default_fit.score(X_test, y_test)"
      ],
      "execution_count": null,
      "outputs": [
        {
          "output_type": "execute_result",
          "data": {
            "text/plain": [
              "0.7724628312863607"
            ]
          },
          "metadata": {},
          "execution_count": 153
        }
      ]
    },
    {
      "cell_type": "markdown",
      "metadata": {
        "id": "LLc6TpsmwNLj"
      },
      "source": [
        "**Question** : Quel est l'accuracy sur l'échantillon test ? \n",
        "\n",
        "**Résultat** : **#TODO**"
      ]
    },
    {
      "cell_type": "markdown",
      "metadata": {
        "id": "TUzF3ZICDJI2"
      },
      "source": [
        "**#TODO** : regarder plus en détail ce que donne le modèle : "
      ]
    },
    {
      "cell_type": "code",
      "metadata": {
        "id": "5AoZG1X5DbTe",
        "colab": {
          "base_uri": "https://localhost:8080/"
        },
        "outputId": "50ea0229-19b9-4cbe-9d24-517865bd0d54"
      },
      "source": [
        "print(\"le 1er tweet de l'échantillon test a été prédit : \")\n",
        "print(model_default_fit.predict(X_test[0]))"
      ],
      "execution_count": null,
      "outputs": [
        {
          "output_type": "stream",
          "name": "stdout",
          "text": [
            "le 1er tweet de l'échantillon test a été prédit : \n",
            "['JeanLuc_Melenchon']\n"
          ]
        }
      ]
    },
    {
      "cell_type": "code",
      "metadata": {
        "id": "ehLcMklODeZG",
        "colab": {
          "base_uri": "https://localhost:8080/"
        },
        "outputId": "e77f46f0-19ae-483b-c922-caa7807ccd8f"
      },
      "source": [
        "model_default_fit.predict_proba(X_test[0])"
      ],
      "execution_count": null,
      "outputs": [
        {
          "output_type": "execute_result",
          "data": {
            "text/plain": [
              "array([[0.21957202, 0.23092004, 0.54950794]])"
            ]
          },
          "metadata": {},
          "execution_count": 159
        }
      ]
    },
    {
      "cell_type": "markdown",
      "metadata": {
        "id": "gRcESsThDgVj"
      },
      "source": [
        "**Question** : que retourne la ligne de code ci-dessus ?\n",
        "\n",
        "**Réponse** : "
      ]
    },
    {
      "cell_type": "markdown",
      "metadata": {
        "id": "b-MAFb_90PQ5"
      },
      "source": [
        "### Mise en place de la RandomSearch\n",
        "\n",
        "On veut mettre en place une randomSearch pour sélectionner les meilleurs paramètres qu'on a choisi d'évaluer via la méthode de cross-validation : \n",
        "- on établit d'abord la grille de paramètres que l'on veut tester\n",
        "- on effectue la RandomSearch\n",
        "- on regarde les résultats sut l'échantillon test"
      ]
    },
    {
      "cell_type": "code",
      "metadata": {
        "id": "-c7KHH7C0VzW"
      },
      "source": [
        "# Paramètres à tester données, vous pouvez modifier pour tester d'autres paramètres\n",
        "dict_params = dict(prep__text_preprocess__max_df=[0.99, 0.95, 0.9],\n",
        "                   prep__text_preprocess__min_df=[2, 5, 10],\n",
        "                   clf__C = [1, 20, 50],\n",
        "                   clf__penalty = ['l2'],\n",
        "                   clf__multi_class=['ovr', 'multinomial'])"
      ],
      "execution_count": null,
      "outputs": []
    },
    {
      "cell_type": "markdown",
      "metadata": {
        "id": "bBmjbxp-12cz"
      },
      "source": [
        "**#TODO** : Entrainer la Randomsearch avec les paramètres ci-dessus sur les données d'apprentissage avec de la cross validation\n",
        "\n",
        "NB : une pipeline a été mise en place dans la cellule ci-dessous afin de pouvoir tester également les paramètres du TFIDF. "
      ]
    },
    {
      "cell_type": "markdown",
      "metadata": {
        "id": "txvwXcCG2AZz"
      },
      "source": [
        "<details>    \n",
        "<summary>\n",
        "    <font size=\"3\"**texte en gras** color=\"darkgreen\"><b>Aide</b></font>\n",
        "</summary>\n",
        "<p>\n",
        "<ul>\n",
        "  <li> Vous pouvez utiliser la fonction <a href=\"https://scikit-learn.org/stable/modules/generated/sklearn.model_selection.RandomizedSearchCV.html\">RandomizedSearchCV</a></li>\n",
        "  \n",
        "</p> "
      ]
    },
    {
      "cell_type": "code",
      "metadata": {
        "id": "TuVygAck1hfy",
        "colab": {
          "base_uri": "https://localhost:8080/"
        },
        "outputId": "dff555fa-725d-41e9-af1f-a27946e729e0"
      },
      "source": [
        "# Entrainer le randomizedsearch \n",
        "\n",
        "# Vectorisation de la variable text_preprocess\n",
        "text_transformer_tfidf =  TfidfVectorizer()\n",
        "preprocess = ColumnTransformer([(\"text_preprocess\", text_transformer_tfidf, \"text_preprocess\")], \n",
        "                               remainder=\"drop\")\n",
        "\n",
        "# Type de modèle à tester\n",
        "model = LogisticRegression(random_state=54269, max_iter=1000)\n",
        "\n",
        "# Pipeline qui combine le preprocess et le modèle\n",
        "prep_model = Pipeline(steps=[('prep',preprocess),\n",
        "                             ('clf', model)])\n",
        "\n",
        "# RANDOMIZED SEARCH\n",
        "##### A MODIFIER A PARTIR D'ICI #####\n",
        "random_search = RandomizedSearchCV( prep_model,\n",
        "                                   dict_params,\n",
        "                                   cv=5,  # cross validation de 5 échantillons\n",
        "                                   n_iter=20,\n",
        "                                   random_state=5439676,\n",
        "                                   n_jobs=-1,\n",
        "                                   verbose=1)\n",
        "### FIN MODIFICATION ### \n",
        "\n",
        "best_rd_model = random_search.fit(df_train, y_train)"
      ],
      "execution_count": null,
      "outputs": [
        {
          "output_type": "stream",
          "name": "stdout",
          "text": [
            "Fitting 5 folds for each of 20 candidates, totalling 100 fits\n"
          ]
        }
      ]
    },
    {
      "cell_type": "code",
      "source": [
        "# Meilleurs paramètres sélectionnés par la randomSearch\n",
        "best_rd_model.best_estimator_"
      ],
      "metadata": {
        "id": "KeH683TWrq3p",
        "colab": {
          "base_uri": "https://localhost:8080/"
        },
        "outputId": "597923a4-2ae6-45a9-9284-e4e5fd5f36dd"
      },
      "execution_count": null,
      "outputs": [
        {
          "output_type": "execute_result",
          "data": {
            "text/plain": [
              "Pipeline(steps=[('prep',\n",
              "                 ColumnTransformer(transformers=[('text_preprocess',\n",
              "                                                  TfidfVectorizer(max_df=0.99,\n",
              "                                                                  min_df=2),\n",
              "                                                  'text_preprocess')])),\n",
              "                ('clf',\n",
              "                 LogisticRegression(C=20, max_iter=1000, multi_class='ovr',\n",
              "                                    random_state=54269))])"
            ]
          },
          "metadata": {},
          "execution_count": 173
        }
      ]
    },
    {
      "cell_type": "markdown",
      "source": [
        "Quelle accuracy le meilleur modèle a-t'il atteint sur l'échantillon train ? "
      ],
      "metadata": {
        "id": "ZCxF5QnBEVN-"
      }
    },
    {
      "cell_type": "code",
      "source": [
        "# Résultats du meilleur modèle sur l'échantillon train \n",
        "best_rd_model.best_score_"
      ],
      "metadata": {
        "id": "GhIH5Q-nEOau",
        "colab": {
          "base_uri": "https://localhost:8080/"
        },
        "outputId": "881bddc0-f974-4b48-c43d-d6072515346a"
      },
      "execution_count": null,
      "outputs": [
        {
          "output_type": "execute_result",
          "data": {
            "text/plain": [
              "0.8077082076678666"
            ]
          },
          "metadata": {},
          "execution_count": 176
        }
      ]
    },
    {
      "cell_type": "markdown",
      "metadata": {
        "id": "XsrEVM_BDSsv"
      },
      "source": [
        "**#TODO** : on évalue la performance en calculant l'accuracy du modèle sélectionné par randomsearch sur l'échantillon test\n",
        "\n"
      ]
    },
    {
      "cell_type": "code",
      "metadata": {
        "id": "mGAlWY4MDU5T",
        "colab": {
          "base_uri": "https://localhost:8080/"
        },
        "outputId": "a6b8a45c-5b4b-4e39-88a1-1652887c622b"
      },
      "source": [
        "best_rd_model.score(df_test, y_test)"
      ],
      "execution_count": null,
      "outputs": [
        {
          "output_type": "execute_result",
          "data": {
            "text/plain": [
              "0.826115061409179"
            ]
          },
          "metadata": {},
          "execution_count": 178
        }
      ]
    },
    {
      "cell_type": "markdown",
      "metadata": {
        "id": "fhjN7HYwAoEY"
      },
      "source": [
        "### Evaluation de la performance du modèle \n",
        "\n",
        "On va calculer la matrice de confusion sur l'échantillon test"
      ]
    },
    {
      "cell_type": "markdown",
      "metadata": {
        "id": "XeLQfbK8CQ_R"
      },
      "source": [
        "<details>    \n",
        "<summary>\n",
        "    <font size=\"3\" color=\"darkgreen\"><b>Aide</b></font>\n",
        "</summary>\n",
        "<p>\n",
        "<ul>\n",
        "  <li> Prédire les candidats de df_test dans un premier temps </li>\n",
        "  <li> Vous pouvez utiliser la fonction <a href=\"https://scikit-learn.org/stable/modules/generated/sklearn.metrics.ConfusionMatrixDisplay.html\" >ConfusionMatrixDisplay</a></li>\n",
        "  \n",
        "</p> "
      ]
    },
    {
      "cell_type": "code",
      "metadata": {
        "id": "Ld_5KZH0nBdC",
        "colab": {
          "base_uri": "https://localhost:8080/",
          "height": 367
        },
        "outputId": "e6e568e7-1c1f-4c2f-aa6a-48090ce2618b"
      },
      "source": [
        "#matrice de confusion\n",
        "#confrontation entre Y observé sur l’éch. test et la prédiction\n",
        "#TODO\n",
        "\n",
        "pred_test = model_default_fit.predict(X_test)\n",
        "cm = confusion_matrix(y_test, pred_test, labels=model_default_fit.classes_)\n",
        "disp = ConfusionMatrixDisplay(confusion_matrix=cm, display_labels=model_default_fit.classes_)\n",
        "disp.plot(xticks_rotation='vertical')\n",
        "plt.show()"
      ],
      "execution_count": null,
      "outputs": [
        {
          "output_type": "display_data",
          "data": {
            "image/png": "[encoded data removed]",
            "text/plain": [
              "<Figure size 432x288 with 2 Axes>"
            ]
          },
          "metadata": {
            "needs_background": "light"
          }
        }
      ]
    },
    {
      "cell_type": "markdown",
      "metadata": {
        "id": "rj3VCS6pCjid"
      },
      "source": [
        "**#TODO** : Interpréter les résultats "
      ]
    },
    {
      "cell_type": "markdown",
      "metadata": {
        "id": "p6mh9hTfD5Hm"
      },
      "source": [
        "**Question** : Sur l'ensemble des tweets de JLM, combien (pourcentage) ont bien été prédits JLM ?  "
      ]
    },
    {
      "cell_type": "markdown",
      "metadata": {
        "id": "ZU3BezsnD-oo"
      },
      "source": [
        "**Réponse** :"
      ]
    },
    {
      "cell_type": "markdown",
      "metadata": {
        "id": "xWLcvP5n23bF"
      },
      "source": [
        "### Test sur des nouvelles données :\n",
        "\n",
        "Ces quelques tweets ont été récupérés après que la base de données ait été récupérée. Ce sont donc des nouvelles données que le modèle n'a jamais vu.\n",
        "\n",
        "**#TODO** : Qui a publié ces tweets ? "
      ]
    },
    {
      "cell_type": "code",
      "metadata": {
        "id": "GzlLcVIf6-st",
        "colab": {
          "base_uri": "https://localhost:8080/"
        },
        "outputId": "32b096d6-3d14-4286-eb58-3d284bf0037c"
      },
      "source": [
        "# Visualisation des tweets à prédire\n",
        "df_mystere = pd.read_excel(f\"{PATH_DATA}/test_mystere.xlsx\")\n",
        "df_mystere[\"text\"]\n"
      ],
      "execution_count": null,
      "outputs": [
        {
          "output_type": "execute_result",
          "data": {
            "text/plain": [
              "0                                                                             L’Europe entière nous regarde et nous attend : une victoire des idées patriotes en France provoquerait un espoir de changement sur tout le continent.\n",
              "1    Dans de nombreux pays, des femmes se battent pour pratiquer leur sport librement. En France, le gouvernement voudrait faire passer le voile islamique pour une liberté. Dans les stades comme dans les rues, je l’interdirai !\n",
              "2                                                         Après avoir d'abord bradé Alstom, Macron rachète à GE les turbines nucléaires mais pas l'éolien offshore. Le nucléaire est un renoncement aux énergies alternatives. CQFD\n",
              "3                                                                                         Une France qui fait le choix du climat, de son indépendance énergétique et se projette vers le futur : ça se passe aujourd’hui à Belfort.\n",
              "4                                                        Libéré, délivré, je ne mentirai plus jamais ! C'est décidé je m'en vais. L'hiver s'installe doucement dans la nuit, la neige est reine à son tour. Un royaume de solitude.\n",
              "Name: text, dtype: object"
            ]
          },
          "metadata": {},
          "execution_count": 167
        }
      ]
    },
    {
      "cell_type": "code",
      "source": [
        "df_mystere.columns"
      ],
      "metadata": {
        "colab": {
          "base_uri": "https://localhost:8080/"
        },
        "id": "hdG7W5MEhtwW",
        "outputId": "0748de4b-7eb2-46bb-9d33-0c6e8ff670b3"
      },
      "execution_count": null,
      "outputs": [
        {
          "output_type": "execute_result",
          "data": {
            "text/plain": [
              "Index(['id', 'created_at', 'favorite_count', 'retweet_count', 'text',\n",
              "       'user_id', 'lenght_tweet', 'text_preprocess', 'tokens'],\n",
              "      dtype='object')"
            ]
          },
          "metadata": {},
          "execution_count": 182
        }
      ]
    },
    {
      "cell_type": "code",
      "metadata": {
        "id": "HjIzQri67kcc"
      },
      "source": [
        "# On prépare les données pour que df_mystere ait la même structure que df_train\n",
        "df_mystere[\"text_preprocess\"] = df_mystere.text.apply(lambda row : preprocess_tweet(row, lemmatizing=True))\n",
        "df_mystere[\"tokens\"] = df_mystere.text_preprocess.apply(lambda row : tokenisation(row))"
      ],
      "execution_count": null,
      "outputs": []
    },
    {
      "cell_type": "code",
      "source": [
        "df_mystere.columns= ['id', 'created_at', 'favorite_count', 'retweet_count', 'text',\n",
        "       'user_id', 'nb_mot', 'text_preprocess', 'tokens']"
      ],
      "metadata": {
        "id": "430bgz3PhyWq"
      },
      "execution_count": null,
      "outputs": []
    },
    {
      "cell_type": "code",
      "source": [
        "# Réaliser la prédiction avec l'un des deux modèles réalisés\n",
        "best_rd_model.predict(df_mystere)"
      ],
      "metadata": {
        "id": "bUwrO9j5RaEG",
        "colab": {
          "base_uri": "https://localhost:8080/"
        },
        "outputId": "ac58c963-4b43-44ab-bf3b-82d4ed081b84"
      },
      "execution_count": null,
      "outputs": [
        {
          "output_type": "execute_result",
          "data": {
            "text/plain": [
              "array(['Eric_Zemmour', 'Eric_Zemmour', 'JeanLuc_Melenchon',\n",
              "       'Emmanuel_Macron', 'JeanLuc_Melenchon'], dtype=object)"
            ]
          },
          "metadata": {},
          "execution_count": 185
        }
      ]
    },
    {
      "cell_type": "markdown",
      "metadata": {
        "id": "M9bYUtGm7YwQ"
      },
      "source": [
        "**Réponse attendue** : \n",
        "\n",
        "```\n",
        "array(['Eric_Zemmour', 'Eric_Zemmour', 'JeanLuc_Melenchon',\n",
        "       'Emmanuel_Macron', 'JeanLuc_Melenchon'], dtype=object)\n",
        "```"
      ]
    },
    {
      "cell_type": "code",
      "metadata": {
        "id": "xbbWPGl9ZCLK",
        "colab": {
          "base_uri": "https://localhost:8080/"
        },
        "outputId": "cfcd81aa-d8c3-4597-e8bd-958ba8606e95"
      },
      "source": [
        "df_train.columns"
      ],
      "execution_count": null,
      "outputs": [
        {
          "output_type": "execute_result",
          "data": {
            "text/plain": [
              "Index(['id', 'created_at', 'favorite_count', 'retweet_count', 'text',\n",
              "       'user_id', 'nb_mot', 'text_preprocess', 'tokens'],\n",
              "      dtype='object')"
            ]
          },
          "metadata": {},
          "execution_count": 181
        }
      ]
    },
    {
      "cell_type": "code",
      "source": [
        ""
      ],
      "metadata": {
        "id": "aLJMhEydhlPw"
      },
      "execution_count": null,
      "outputs": []
    }
  ]
}